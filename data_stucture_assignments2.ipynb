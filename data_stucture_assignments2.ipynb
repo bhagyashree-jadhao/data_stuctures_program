{
  "cells": [
    {
      "cell_type": "markdown",
      "metadata": {
        "id": "view-in-github",
        "colab_type": "text"
      },
      "source": [
        "<a href=\"https://colab.research.google.com/github/bhagyashree-jadhao/data_stuctures_program/blob/main/data_stucture_assignments2.ipynb\" target=\"_parent\"><img src=\"https://colab.research.google.com/assets/colab-badge.svg\" alt=\"Open In Colab\"/></a>"
      ]
    },
    {
      "cell_type": "markdown",
      "id": "cdfa0e38-6cef-4a61-ab91-b9fd6c1a8af7",
      "metadata": {
        "id": "cdfa0e38-6cef-4a61-ab91-b9fd6c1a8af7"
      },
      "source": [
        "# 1)  Write ' code to reverse ' string\n"
      ]
    },
    {
      "cell_type": "code",
      "source": [
        "string=input(\"enter the any string: \")\n",
        "print(f\"reerse of {string} is {string[::-1]}\") # use a slicing concept"
      ],
      "metadata": {
        "colab": {
          "base_uri": "https://localhost:8080/"
        },
        "id": "d-LXVmxIbLYb",
        "outputId": "f3028b2e-39ad-41be-c883-92d1542c0022"
      },
      "id": "d-LXVmxIbLYb",
      "execution_count": 1,
      "outputs": [
        {
          "output_type": "stream",
          "name": "stdout",
          "text": [
            "enter the any string: welcome\n",
            "reerse of welcome is emoclew\n"
          ]
        }
      ]
    },
    {
      "cell_type": "code",
      "source": [
        "def reverse_string(string):\n",
        "  rev_string='' # emplty string we will stored the reverse string\n",
        "  for char in string: # iterate the string\n",
        "    rev_string=char+rev_string # first add the char then reverser string\n",
        "\n",
        "  return f\"reverse of {string} is {rev_string}\"\n",
        "\n",
        "reverse_string(string)"
      ],
      "metadata": {
        "colab": {
          "base_uri": "https://localhost:8080/",
          "height": 35
        },
        "id": "HzNKRXikbfbA",
        "outputId": "6677b34f-6344-4298-f440-b34fd35a896b"
      },
      "id": "HzNKRXikbfbA",
      "execution_count": 3,
      "outputs": [
        {
          "output_type": "execute_result",
          "data": {
            "text/plain": [
              "'reverse of welcome is emoclew'"
            ],
            "application/vnd.google.colaboratory.intrinsic+json": {
              "type": "string"
            }
          },
          "metadata": {},
          "execution_count": 3
        }
      ]
    },
    {
      "cell_type": "markdown",
      "source": [],
      "metadata": {
        "id": "7PwQM3fIbcvp"
      },
      "id": "7PwQM3fIbcvp"
    },
    {
      "cell_type": "markdown",
      "source": [
        "# 2) Write ' code to count the number of vowels in ' string."
      ],
      "metadata": {
        "id": "T4bu8olSbiNG"
      },
      "id": "T4bu8olSbiNG"
    },
    {
      "cell_type": "code",
      "source": [
        "def count_vowels(string):\n",
        "  vowels='aeiou' # vowels is string variable it containg the vowels char\n",
        "  count=0\n",
        "  for char in string.lower(): # convert string into lower and iterate one by one char in string\n",
        "    if char in vowels:\n",
        "      count+=1\n",
        "  return f\"total vowels count in {string}  is | {count}\"\n",
        "count_vowels(string)"
      ],
      "metadata": {
        "colab": {
          "base_uri": "https://localhost:8080/",
          "height": 35
        },
        "id": "M_T-7wqZbbqW",
        "outputId": "19480759-7e07-4305-bbcc-f3f4f1bec34c"
      },
      "id": "M_T-7wqZbbqW",
      "execution_count": 4,
      "outputs": [
        {
          "output_type": "execute_result",
          "data": {
            "text/plain": [
              "'total vowels count in welcome  is | 3'"
            ],
            "application/vnd.google.colaboratory.intrinsic+json": {
              "type": "string"
            }
          },
          "metadata": {},
          "execution_count": 4
        }
      ]
    },
    {
      "cell_type": "markdown",
      "source": [],
      "metadata": {
        "id": "h0gQ3zuTbHbj"
      },
      "id": "h0gQ3zuTbHbj"
    },
    {
      "cell_type": "markdown",
      "source": [
        "# 3). Write ' code to check if ' given string is' palindrome or not."
      ],
      "metadata": {
        "id": "5B2W4rbrb3vy"
      },
      "id": "5B2W4rbrb3vy"
    },
    {
      "cell_type": "code",
      "source": [
        "def string_palindrom(s=\"aabbaa\"):\n",
        "  # empty string rev_string\n",
        "  rev_string=''\n",
        "  for char in s: # iterate the string char\n",
        "      rev_string=char+rev_string # first add the char then reverser string\n",
        "  if rev_string==s: # check the string and reverse string are same or not\n",
        "    return f\" string: {s} | reverse string {rev_string} are palindrom \"\n",
        "  else:\n",
        "        return f\" string: {s} | reverse string {rev_string} are not palindrom \"\n",
        "\n",
        "\n",
        "s=input(\"enter the string: \")\n",
        "string_palindrom(s)"
      ],
      "metadata": {
        "colab": {
          "base_uri": "https://localhost:8080/",
          "height": 53
        },
        "id": "seF90Lsjb7e7",
        "outputId": "4292788f-c20f-4875-d753-88b38a0c4af5"
      },
      "id": "seF90Lsjb7e7",
      "execution_count": 5,
      "outputs": [
        {
          "name": "stdout",
          "output_type": "stream",
          "text": [
            "enter the string: madam\n"
          ]
        },
        {
          "output_type": "execute_result",
          "data": {
            "text/plain": [
              "' string: madam | reverse string madam are palindrom '"
            ],
            "application/vnd.google.colaboratory.intrinsic+json": {
              "type": "string"
            }
          },
          "metadata": {},
          "execution_count": 5
        }
      ]
    },
    {
      "cell_type": "code",
      "source": [
        "s=input(\"enter the string: \")\n",
        "string_palindrom(s)"
      ],
      "metadata": {
        "colab": {
          "base_uri": "https://localhost:8080/",
          "height": 53
        },
        "id": "c2N1Ev_UlOw6",
        "outputId": "bbb332ba-d3bd-43f8-fd76-e1d04af16492"
      },
      "id": "c2N1Ev_UlOw6",
      "execution_count": 6,
      "outputs": [
        {
          "name": "stdout",
          "output_type": "stream",
          "text": [
            "enter the string: welcome\n"
          ]
        },
        {
          "output_type": "execute_result",
          "data": {
            "text/plain": [
              "' string: welcome | reverse string emoclew are not palindrom '"
            ],
            "application/vnd.google.colaboratory.intrinsic+json": {
              "type": "string"
            }
          },
          "metadata": {},
          "execution_count": 6
        }
      ]
    },
    {
      "cell_type": "markdown",
      "source": [
        "# 4). Write ' code to check if two given strings are anagram for eachh others.\n"
      ],
      "metadata": {
        "id": "IKeVyHGndVZF"
      },
      "id": "IKeVyHGndVZF"
    },
    {
      "cell_type": "code",
      "source": [],
      "metadata": {
        "id": "Zzhpn0JcdeKy"
      },
      "id": "Zzhpn0JcdeKy",
      "execution_count": null,
      "outputs": []
    },
    {
      "cell_type": "code",
      "source": [
        "c='eat'\n",
        "d='ate'\n",
        "def anagram(first_string,sec_string):\n",
        "  list1=[char for char in first_string] # used list comprehension to convert string to list\n",
        "  list2=[char for char in sec_string]\n",
        "  list1.sort() # sort the list element in asceding order\n",
        "  list2.sort()\n",
        "\n",
        "  if list1==list2: # check a  list1 and list2 are same then\n",
        "\n",
        "    return f\"{first_string} and {sec_string} are anagram \"\n",
        "  else:\n",
        "        return f\"{first_string} and {sec_string} are not  anagram \"\n",
        "\n"
      ],
      "metadata": {
        "id": "rk-ErNQI0dm_"
      },
      "execution_count": 7,
      "outputs": [],
      "id": "rk-ErNQI0dm_"
    },
    {
      "cell_type": "code",
      "source": [
        "s=input(\"enter the first string: \")\n",
        "s1=input(\"enter the second string: \")\n",
        "anagram(s,s1)"
      ],
      "metadata": {
        "colab": {
          "base_uri": "https://localhost:8080/",
          "height": 70
        },
        "id": "NgQzvlcHdyT8",
        "outputId": "a6ddf5b4-5138-465d-9cfc-51ca7c64b28b"
      },
      "id": "NgQzvlcHdyT8",
      "execution_count": 9,
      "outputs": [
        {
          "name": "stdout",
          "output_type": "stream",
          "text": [
            "enter the first string: lock \n",
            "enter the second string: clock\n"
          ]
        },
        {
          "output_type": "execute_result",
          "data": {
            "text/plain": [
              "'lock  and clock are not  anagram '"
            ],
            "application/vnd.google.colaboratory.intrinsic+json": {
              "type": "string"
            }
          },
          "metadata": {},
          "execution_count": 9
        }
      ]
    },
    {
      "cell_type": "code",
      "source": [
        "s=input(\"enter the first string: \")\n",
        "s1=input(\"enter the second string: \")\n",
        "anagram(s,s1)"
      ],
      "metadata": {
        "colab": {
          "base_uri": "https://localhost:8080/",
          "height": 70
        },
        "id": "tpQOJuj2mdaw",
        "outputId": "b912f619-cc56-4903-fce1-e95a40d03585"
      },
      "id": "tpQOJuj2mdaw",
      "execution_count": 10,
      "outputs": [
        {
          "name": "stdout",
          "output_type": "stream",
          "text": [
            "enter the first string: listen\n",
            "enter the second string: silent\n"
          ]
        },
        {
          "output_type": "execute_result",
          "data": {
            "text/plain": [
              "'listen and silent are anagram '"
            ],
            "application/vnd.google.colaboratory.intrinsic+json": {
              "type": "string"
            }
          },
          "metadata": {},
          "execution_count": 10
        }
      ]
    },
    {
      "cell_type": "code",
      "source": [],
      "metadata": {
        "id": "QFYK9Y-Vmded"
      },
      "id": "QFYK9Y-Vmded",
      "execution_count": null,
      "outputs": []
    },
    {
      "cell_type": "markdown",
      "metadata": {
        "id": "IsTVEnaNbIXc"
      },
      "source": [
        "# 5) Write code to find all occurrences of  given substring within another string\n"
      ],
      "id": "IsTVEnaNbIXc"
    },
    {
      "cell_type": "code",
      "execution_count": 11,
      "id": "0815b7c6-b800-4df0-9b0e-1386b864229c",
      "metadata": {
        "id": "0815b7c6-b800-4df0-9b0e-1386b864229c",
        "outputId": "adc22fdf-96f9-4e85-bc31-c2f2ad5f8070",
        "colab": {
          "base_uri": "https://localhost:8080/",
          "height": 35
        }
      },
      "outputs": [
        {
          "output_type": "execute_result",
          "data": {
            "text/plain": [
              "'ab is present'"
            ],
            "application/vnd.google.colaboratory.intrinsic+json": {
              "type": "string"
            }
          },
          "metadata": {},
          "execution_count": 11
        }
      ],
      "source": [
        "def find_occurences(substring,string):\n",
        "    for i in range(len(string)-len(substring)+1): # iterate a sting from satring index to total lenth of string subtract a len of substring . calculates the number of positions in the main string where the substring can start and still fit within the main string.\n",
        "\n",
        "        if string[i:i+len(substring)]==substring: #this slice operation extracts a part of the main string starting at index i and extending for the length of the substring. if part of string are and substring are same use '==' camapre operator then return a occurence of from main string\n",
        "            return f\"{substring} is present\"\n",
        "        else:\n",
        "            continue\n",
        "    else:\n",
        "        return f\"{substring} is not present\"\n",
        "\n",
        "\n",
        "find_occurences('ab','adab')\n",
        "\n",
        "\n"
      ]
    },
    {
      "cell_type": "code",
      "execution_count": 13,
      "id": "82e16331-8092-4e03-b3a7-100aa2710535",
      "metadata": {
        "id": "82e16331-8092-4e03-b3a7-100aa2710535",
        "outputId": "f58ea7dd-2e84-4eaf-85e0-a70b8984afa4",
        "colab": {
          "base_uri": "https://localhost:8080/",
          "height": 35
        }
      },
      "outputs": [
        {
          "output_type": "execute_result",
          "data": {
            "text/plain": [
              "'ac is not present'"
            ],
            "application/vnd.google.colaboratory.intrinsic+json": {
              "type": "string"
            }
          },
          "metadata": {},
          "execution_count": 13
        }
      ],
      "source": [
        "# here used a regex\n",
        "import re\n",
        "def find_occurences_re (s,s1):\n",
        "    if re.findall(s,s1): # findall() method take 2 arguments a and s1  s is subpart and s1 is main string\n",
        "        return f\"{s} is present\"\n",
        "    else:\n",
        "        return f\"{s} is not present\"\n",
        "find_occurences_re('ac','aaaab')"
      ]
    },
    {
      "cell_type": "code",
      "source": [
        "find_occurences_re('ab','aaaab')"
      ],
      "metadata": {
        "colab": {
          "base_uri": "https://localhost:8080/",
          "height": 35
        },
        "id": "I8XODtE_tSJb",
        "outputId": "d05578df-8997-4c6d-ac19-9317dc9b9171"
      },
      "id": "I8XODtE_tSJb",
      "execution_count": 14,
      "outputs": [
        {
          "output_type": "execute_result",
          "data": {
            "text/plain": [
              "'ab is present'"
            ],
            "application/vnd.google.colaboratory.intrinsic+json": {
              "type": "string"
            }
          },
          "metadata": {},
          "execution_count": 14
        }
      ]
    },
    {
      "cell_type": "markdown",
      "id": "40ee3279-ec9d-4417-bf0e-bcb4087125ee",
      "metadata": {
        "id": "40ee3279-ec9d-4417-bf0e-bcb4087125ee"
      },
      "source": [
        "# 6). Write code to performing string comparission the count of repeated charecter."
      ]
    },
    {
      "cell_type": "code",
      "execution_count": null,
      "id": "ee3d30f0-9e62-4af6-a34f-2e79548aa1a7",
      "metadata": {
        "id": "ee3d30f0-9e62-4af6-a34f-2e79548aa1a7",
        "outputId": "8388c860-45c4-48eb-d677-c4cb8f469981"
      },
      "outputs": [
        {
          "data": {
            "text/plain": [
              "'a2b2c1'"
            ]
          },
          "execution_count": 8,
          "metadata": {},
          "output_type": "execute_result"
        }
      ],
      "source": [
        "def count_char(string):\n",
        "    d={}\n",
        "    count=1\n",
        "    string_count=''\n",
        "    for i in string:\n",
        "        if i in d:\n",
        "            d[i]+=1\n",
        "        else:\n",
        "            d[i]=1\n",
        "    for key,value in d.items():\n",
        "        string_count+=key+str(value)\n",
        "    #print(d)\n",
        "    return string_count\n",
        "\n",
        "\n",
        "\n",
        "count_char('abacb')"
      ]
    },
    {
      "cell_type": "code",
      "execution_count": null,
      "id": "2972e914-d1e5-4678-b0e0-3ccaac39fd63",
      "metadata": {
        "id": "2972e914-d1e5-4678-b0e0-3ccaac39fd63",
        "outputId": "8526c0d3-774a-4072-e259-5fe8000d13da"
      },
      "outputs": [
        {
          "data": {
            "text/plain": [
              "'a1b12c1'"
            ]
          },
          "execution_count": 54,
          "metadata": {},
          "output_type": "execute_result"
        }
      ],
      "source": []
    },
    {
      "cell_type": "markdown",
      "id": "a07049b8-f0f4-46b5-94db-c14b7c072cb8",
      "metadata": {
        "id": "a07049b8-f0f4-46b5-94db-c14b7c072cb8"
      },
      "source": [
        "# 7) Write ' code to determine if ' string has all unique character."
      ]
    },
    {
      "cell_type": "code",
      "execution_count": null,
      "id": "dcac88c1-9749-4063-8f9d-71a6b19b391e",
      "metadata": {
        "id": "dcac88c1-9749-4063-8f9d-71a6b19b391e",
        "outputId": "bd84088b-b833-474b-e7b4-1269a5254a7e"
      },
      "outputs": [
        {
          "data": {
            "text/plain": [
              "'python has all unique all character'"
            ]
          },
          "execution_count": 13,
          "metadata": {},
          "output_type": "execute_result"
        }
      ],
      "source": [
        "def check_unique_char(string):\n",
        "    s=''\n",
        "    for char in string:\n",
        "        if char not in s:\n",
        "            s+=char\n",
        "        else:\n",
        "            continue\n",
        "    if s==string:\n",
        "        return f\"{string} has all unique all character\"\n",
        "    else:\n",
        "        return  f\"{string} has not unique  character\"\n",
        "check_unique_char(\"python\")\n"
      ]
    },
    {
      "cell_type": "code",
      "execution_count": null,
      "id": "49d25a91-cbc9-4ba4-ab6c-54de69c1c256",
      "metadata": {
        "id": "49d25a91-cbc9-4ba4-ab6c-54de69c1c256",
        "outputId": "ebb18ce8-9e2e-4d49-8a7b-dbd28d5da3c3"
      },
      "outputs": [
        {
          "data": {
            "text/plain": [
              "'welcome has not unique  character'"
            ]
          },
          "execution_count": 14,
          "metadata": {},
          "output_type": "execute_result"
        }
      ],
      "source": [
        "check_unique_char(\"welcome\")"
      ]
    },
    {
      "cell_type": "markdown",
      "id": "23f3ee20-dfed-4f0c-b8d2-cfb4a3853dc0",
      "metadata": {
        "id": "23f3ee20-dfed-4f0c-b8d2-cfb4a3853dc0"
      },
      "source": [
        "# 8) write ' code to convert ' given string to uppercase or lowercase"
      ]
    },
    {
      "cell_type": "code",
      "execution_count": null,
      "id": "abea83bc-bbde-427f-b0fd-c8326acd0c71",
      "metadata": {
        "id": "abea83bc-bbde-427f-b0fd-c8326acd0c71",
        "outputId": "3a370fce-fcb6-4a09-d990-caf7f93a53a9"
      },
      "outputs": [
        {
          "data": {
            "text/plain": [
              "' lower strig of welcome to python: welcome to python \\n upper string WELCOME TO PYTHON'"
            ]
          },
          "execution_count": 40,
          "metadata": {},
          "output_type": "execute_result"
        }
      ],
      "source": [
        "def convert_upper_lower(string):\n",
        "    upper_string=string.upper()\n",
        "    lower_string=string.lower()\n",
        "    return f\" lower strig of {string}: {lower_string} \\n upper string {upper_string}\"\n",
        "convert_upper_lower('welcome to python')"
      ]
    },
    {
      "cell_type": "markdown",
      "id": "504d007b-c920-4e6f-8741-29d1eed5fac5",
      "metadata": {
        "id": "504d007b-c920-4e6f-8741-29d1eed5fac5"
      },
      "source": [
        "# 9).Write a code to count the number of words in a strings"
      ]
    },
    {
      "cell_type": "code",
      "execution_count": null,
      "id": "19cc5dc5-2f2d-4a40-87ea-3eb5629ad4d7",
      "metadata": {
        "id": "19cc5dc5-2f2d-4a40-87ea-3eb5629ad4d7"
      },
      "outputs": [],
      "source": [
        "def count_word(sentence):\n",
        "    list=sentence.split()\n",
        "    counts=0\n",
        "    for word in list:\n",
        "        counts+=1\n",
        "    return f'total word in :- {sentence} : {counts}'"
      ]
    },
    {
      "cell_type": "code",
      "execution_count": null,
      "id": "25b41127-1d26-4b91-9430-7c67fb66d95a",
      "metadata": {
        "id": "25b41127-1d26-4b91-9430-7c67fb66d95a",
        "outputId": "031ff44e-45dd-4a2f-d246-2f099256e058"
      },
      "outputs": [
        {
          "data": {
            "text/plain": [
              "'total word in :- welcome to python and easy to learn : 7'"
            ]
          },
          "execution_count": 37,
          "metadata": {},
          "output_type": "execute_result"
        }
      ],
      "source": [
        "count_word(\"welcome to python and easy to learn\")"
      ]
    },
    {
      "cell_type": "code",
      "execution_count": null,
      "id": "1e1feb9b-23a9-4687-a89e-579cbc7a89c0",
      "metadata": {
        "id": "1e1feb9b-23a9-4687-a89e-579cbc7a89c0",
        "outputId": "453142af-ce25-485d-e38f-966a255a48b4"
      },
      "outputs": [
        {
          "data": {
            "text/plain": [
              "' 7 word are present'"
            ]
          },
          "execution_count": 43,
          "metadata": {},
          "output_type": "execute_result"
        }
      ],
      "source": [
        "def word_count(sentence):\n",
        "    s=''\n",
        "    cnt=1\n",
        "    for word in sentence:\n",
        "        if word ==' ':\n",
        "            cnt+=1\n",
        "    return f\" {cnt} word are present\"\n",
        "#word_count(\"welcome to python and easy to learn\")"
      ]
    },
    {
      "cell_type": "code",
      "execution_count": null,
      "id": "7948b934-895c-4edf-8337-499807163955",
      "metadata": {
        "id": "7948b934-895c-4edf-8337-499807163955",
        "outputId": "9360dddc-df48-473e-f182-fe7707fe20e5"
      },
      "outputs": [
        {
          "data": {
            "text/plain": [
              "' 7 word are present'"
            ]
          },
          "execution_count": 45,
          "metadata": {},
          "output_type": "execute_result"
        }
      ],
      "source": [
        "word_count(\"welcome to python and easy to learn\")"
      ]
    },
    {
      "cell_type": "markdown",
      "id": "fccd52c2-39b4-496e-aabf-1a9b54d73d4f",
      "metadata": {
        "id": "fccd52c2-39b4-496e-aabf-1a9b54d73d4f"
      },
      "source": [
        "# 10) Write ' code to concatenate two strings without using the + operator\u0012"
      ]
    },
    {
      "cell_type": "code",
      "execution_count": null,
      "id": "68ebe3d5-ce77-4692-913c-bdd7a9364106",
      "metadata": {
        "id": "68ebe3d5-ce77-4692-913c-bdd7a9364106"
      },
      "outputs": [],
      "source": [
        "def string_concat(first_string,second_string):\n",
        "    concat_strings=''.join([first_string,second_string])\n",
        "    return concat_strings"
      ]
    },
    {
      "cell_type": "code",
      "execution_count": null,
      "id": "50c2078b-a269-4529-ac27-158c596b6d35",
      "metadata": {
        "id": "50c2078b-a269-4529-ac27-158c596b6d35",
        "outputId": "08e2b61c-4d9f-4f93-f0bf-fefb206a079a"
      },
      "outputs": [
        {
          "data": {
            "text/plain": [
              "'welcomepython'"
            ]
          },
          "execution_count": 53,
          "metadata": {},
          "output_type": "execute_result"
        }
      ],
      "source": [
        "string_concat('welcome','python')"
      ]
    },
    {
      "cell_type": "markdown",
      "id": "0857bbf1-dabf-4afd-8da5-768924701924",
      "metadata": {
        "id": "0857bbf1-dabf-4afd-8da5-768924701924"
      },
      "source": [
        "# 11). \u0012 Write ' code to remove all occurrences of ' specific element from a lists."
      ]
    },
    {
      "cell_type": "code",
      "execution_count": null,
      "id": "b4bd4b8b-0f93-4941-b377-725d15fe5957",
      "metadata": {
        "id": "b4bd4b8b-0f93-4941-b377-725d15fe5957"
      },
      "outputs": [],
      "source": []
    },
    {
      "cell_type": "code",
      "execution_count": null,
      "id": "4560724b-e76d-4746-b3cf-004ffd5b5e6b",
      "metadata": {
        "id": "4560724b-e76d-4746-b3cf-004ffd5b5e6b"
      },
      "outputs": [],
      "source": [
        "\n",
        "\n",
        "def remove_all_occurence(list1,occurence):\n",
        "# createing new list that is remove_occurence_list its  contain element from list1 and remove the occurence\n",
        "    # in case your list contain string as well int then check this and convert it into int\n",
        "    if occurence.isdigit():\n",
        "        num=int(occurence)\n",
        "        remove_occurence_list=[ele for ele in list1 if ele!=num]\n",
        "    else:\n",
        "        remove_occurence_list=[ele for ele in list1 if ele!=occurence]\n",
        "    return remove_occurence_list\n",
        "\n",
        "\n",
        "\n",
        "\n"
      ]
    },
    {
      "cell_type": "code",
      "execution_count": null,
      "id": "4c867854-6c81-4723-83dc-3c365c9e9830",
      "metadata": {
        "id": "4c867854-6c81-4723-83dc-3c365c9e9830",
        "outputId": "56aa4e3e-e45a-4705-d249-10f4eb171987"
      },
      "outputs": [
        {
          "name": "stdin",
          "output_type": "stream",
          "text": [
            "Enter the occurence you want to remove: hi\n"
          ]
        },
        {
          "data": {
            "text/plain": [
              "[1, 2, 3, 4, 4, 5, 5, 6, 'hello', 3]"
            ]
          },
          "execution_count": 27,
          "metadata": {},
          "output_type": "execute_result"
        }
      ],
      "source": [
        "student_list=[1,2,3,4,4,5,5,6,\"hello\",'hi',\"hi\",3]\n",
        "occurence=input(\"Enter the occurence you want to remove:\" )\n",
        "remove_all_occurence(student_list,occurence)\n",
        "\n"
      ]
    },
    {
      "cell_type": "code",
      "execution_count": null,
      "id": "8c9d070a-df41-4252-9511-e00412c8bddc",
      "metadata": {
        "id": "8c9d070a-df41-4252-9511-e00412c8bddc",
        "outputId": "20f07f58-1f55-421e-e806-7fa85abc0b3d"
      },
      "outputs": [
        {
          "name": "stdin",
          "output_type": "stream",
          "text": [
            "Enter the occurence you want to remove: 5\n"
          ]
        },
        {
          "data": {
            "text/plain": [
              "[1, 2, 3, 4, 4, 6, 'hello', 'hi', 'hi', 3]"
            ]
          },
          "execution_count": 28,
          "metadata": {},
          "output_type": "execute_result"
        }
      ],
      "source": [
        "student_list=[1,2,3,4,4,5,5,6,\"hello\",'hi',\"hi\",3]\n",
        "occurence=input(\"Enter the occurence you want to remove:\" )\n",
        "remove_all_occurence(student_list,occurence)\n"
      ]
    },
    {
      "cell_type": "code",
      "execution_count": null,
      "id": "90140ac2-d930-4729-9d86-a13fb0495470",
      "metadata": {
        "id": "90140ac2-d930-4729-9d86-a13fb0495470"
      },
      "outputs": [],
      "source": []
    },
    {
      "cell_type": "code",
      "execution_count": null,
      "id": "4f0e02c8-1593-45f8-81bc-fb9c26b139c0",
      "metadata": {
        "id": "4f0e02c8-1593-45f8-81bc-fb9c26b139c0",
        "outputId": "8cbf7cae-94dd-4173-e7df-0b9b1cb66d27"
      },
      "outputs": [
        {
          "data": {
            "text/plain": [
              "['welcom', 'python', 'pandas', 'numpy', 45]"
            ]
          },
          "execution_count": 13,
          "metadata": {},
          "output_type": "execute_result"
        }
      ],
      "source": [
        " remove_all_occurence(list1,5)"
      ]
    },
    {
      "cell_type": "code",
      "execution_count": null,
      "id": "659fc510-00f7-4692-968d-c01f6bee1c40",
      "metadata": {
        "id": "659fc510-00f7-4692-968d-c01f6bee1c40"
      },
      "outputs": [],
      "source": []
    },
    {
      "cell_type": "markdown",
      "id": "85eb8be5-4f5c-4b3d-af16-7e1c2fc24e72",
      "metadata": {
        "id": "85eb8be5-4f5c-4b3d-af16-7e1c2fc24e72"
      },
      "source": [
        "# 12). Implement a code to find the second largest number in a given list of integers."
      ]
    },
    {
      "cell_type": "code",
      "execution_count": null,
      "id": "e64770f3-2d81-438f-82a6-f4639848aefe",
      "metadata": {
        "colab": {
          "base_uri": "https://localhost:8080/"
        },
        "id": "e64770f3-2d81-438f-82a6-f4639848aefe",
        "outputId": "f9d1fc5a-4a14-4f66-c528-a7de2ce88fb9"
      },
      "outputs": [
        {
          "output_type": "stream",
          "name": "stdout",
          "text": [
            "[10, 20, 30, 40, 50, 70, 100, 200]\n",
            "second lagest number is | 100\n"
          ]
        }
      ],
      "source": [
        "l=[20,30,10,200,100,40,50,70]\n",
        "\n",
        "for i in range(len(l)):\n",
        "    for j in range(i,len(l)):\n",
        "        if l[i]>l[j]:\n",
        "            temp=l[i]\n",
        "            l[i]=l[j]\n",
        "            l[j]=temp\n",
        "\n",
        "print(l)\n",
        "print(f\"second lagest number is | {l[-2]}\")\n"
      ]
    },
    {
      "cell_type": "code",
      "execution_count": null,
      "id": "55e16dad-b55f-45e2-b95d-e1a7a8a14cc3",
      "metadata": {
        "id": "55e16dad-b55f-45e2-b95d-e1a7a8a14cc3"
      },
      "outputs": [],
      "source": []
    },
    {
      "cell_type": "markdown",
      "id": "d753e5d5-bf63-4c7e-a10e-5be5cd31bca4",
      "metadata": {
        "id": "d753e5d5-bf63-4c7e-a10e-5be5cd31bca4"
      },
      "source": [
        "# 13) Create code to count the occurrences of each element in ' list and return ' dictionary with elements key and their counts as values"
      ]
    },
    {
      "cell_type": "code",
      "execution_count": null,
      "id": "3767b111-5008-428a-a73f-2c2cea35afb5",
      "metadata": {
        "id": "3767b111-5008-428a-a73f-2c2cea35afb5"
      },
      "outputs": [],
      "source": [
        "list1=[1,2,3,4,5,6,5,4,3,33,3,3,2,3,4,8,1,4,5,6,7,6,8]\n",
        "dict1={i:list1.count(i)   for i in list1} # used the dict comprehension and count() method to\n",
        "dict2={}\n",
        "for i in list1:\n",
        "    if i in dict2:\n",
        "        dict2[i]+=1\n",
        "    else:\n",
        "        dict2[i]=1"
      ]
    },
    {
      "cell_type": "code",
      "execution_count": null,
      "id": "929f2d74-4aa2-4370-8841-d06ae1d15bc3",
      "metadata": {
        "id": "929f2d74-4aa2-4370-8841-d06ae1d15bc3",
        "outputId": "6962a048-c3f5-424f-8f25-40bea8173cde"
      },
      "outputs": [
        {
          "data": {
            "text/plain": [
              "{1: 2, 2: 2, 3: 5, 4: 4, 5: 3, 6: 3, 33: 1, 8: 2, 7: 1}"
            ]
          },
          "execution_count": 49,
          "metadata": {},
          "output_type": "execute_result"
        }
      ],
      "source": [
        "dict2"
      ]
    },
    {
      "cell_type": "markdown",
      "id": "de3fefd1-25c2-4508-9830-ba33beb5b79e",
      "metadata": {
        "id": "de3fefd1-25c2-4508-9830-ba33beb5b79e"
      },
      "source": [
        "# 14) \"Write a code to reverse list in-place without uing 'n built-in reverse fun%tion\n",
        "\u0012"
      ]
    },
    {
      "cell_type": "code",
      "execution_count": null,
      "id": "4d489f17-464b-4fef-b6d1-2fece7dc0951",
      "metadata": {
        "id": "4d489f17-464b-4fef-b6d1-2fece7dc0951"
      },
      "outputs": [],
      "source": [
        "list1=[100,200,'Python',400,200,300,'Welcome']\n",
        "list2=[]\n",
        "# used the range() and -ve indexing\n",
        "for i in range(len(list1)-1,-1,-1):\n",
        "    list2.append(list1[i])\n",
        "# by using list comprehension\n",
        "reverse_list=[list1[i] for i in range(len(list1)-1,-1,-1)]"
      ]
    },
    {
      "cell_type": "code",
      "execution_count": null,
      "id": "7dbd6f77-c4c7-4076-a1c2-8d6ab2dc63c8",
      "metadata": {
        "id": "7dbd6f77-c4c7-4076-a1c2-8d6ab2dc63c8",
        "outputId": "cc999664-6094-431d-a986-6ae853c849f1"
      },
      "outputs": [
        {
          "data": {
            "text/plain": [
              "['Welcome', 300, 200, 400, 'Python', 200, 100]"
            ]
          },
          "execution_count": 100,
          "metadata": {},
          "output_type": "execute_result"
        }
      ],
      "source": [
        "reverse_list"
      ]
    },
    {
      "cell_type": "markdown",
      "id": "0e3c9c9e-842f-4672-98da-ca5264b74cff",
      "metadata": {
        "id": "0e3c9c9e-842f-4672-98da-ca5264b74cff"
      },
      "source": [
        "# 15)  Implement code to find and remove duplicated from list while preserving the original order of elements"
      ]
    },
    {
      "cell_type": "code",
      "execution_count": null,
      "id": "8a68442e-be9a-4814-b41c-94cbd4135d13",
      "metadata": {
        "id": "8a68442e-be9a-4814-b41c-94cbd4135d13"
      },
      "outputs": [],
      "source": [
        "def remove_duplicate(list1):\n",
        "    list2=[]\n",
        "    for i in list1:\n",
        "        if i not in list2:\n",
        "            list2.append(i)\n",
        "        else:\n",
        "            continue\n",
        "    return list2\n",
        "list1=[1,2,3,4,5,6,5,4,3,33,3,3,2,3,4,8,1,4,5,6,7,6,8]"
      ]
    },
    {
      "cell_type": "code",
      "execution_count": null,
      "id": "33b48174-2be4-49ca-ab18-51bdfd3ca83e",
      "metadata": {
        "id": "33b48174-2be4-49ca-ab18-51bdfd3ca83e",
        "outputId": "b132d769-4297-4466-9791-e48fe5067ef1"
      },
      "outputs": [
        {
          "data": {
            "text/plain": [
              "[1, 2, 3, 4, 5, 6, 33, 8, 7]"
            ]
          },
          "execution_count": 102,
          "metadata": {},
          "output_type": "execute_result"
        }
      ],
      "source": [
        "remove_duplicate(list1)"
      ]
    },
    {
      "cell_type": "markdown",
      "id": "dda4caf8-55cc-4959-a643-f3e7dc6bc5fe",
      "metadata": {
        "id": "dda4caf8-55cc-4959-a643-f3e7dc6bc5fe"
      },
      "source": [
        "# 16) Create code to check if a given list is sorted either in ascending or descending order or not."
      ]
    },
    {
      "cell_type": "code",
      "execution_count": null,
      "id": "32181aff-241e-451a-bcea-976e3b81b35d",
      "metadata": {
        "id": "32181aff-241e-451a-bcea-976e3b81b35d"
      },
      "outputs": [],
      "source": [
        "def check_sorted_list(list1):\n",
        "    if list1==sorted(list1):\n",
        "        return f\"{list1} is sorted by ascending order\"\n",
        "    elif list1==sorted(list1,reverse=True):\n",
        "        return f\"{list1} is sorted by descending order\"\n",
        "    else:\n",
        "        return f\"{list1} is not sorted by ascending or descending order\"\n",
        "\n",
        "\n"
      ]
    },
    {
      "cell_type": "code",
      "execution_count": null,
      "id": "d37f5960-98d7-47ab-9d1c-7960ed935266",
      "metadata": {
        "id": "d37f5960-98d7-47ab-9d1c-7960ed935266",
        "outputId": "2749107f-6f6c-45f2-a832-8f61e40cfc7a"
      },
      "outputs": [
        {
          "data": {
            "text/plain": [
              "'[111, 13, 11] is sorted by descending order'"
            ]
          },
          "execution_count": 133,
          "metadata": {},
          "output_type": "execute_result"
        }
      ],
      "source": [
        "list1=[111,13,11]\n",
        "check_sorted_list(list1)"
      ]
    },
    {
      "cell_type": "markdown",
      "id": "26adde02-8dff-4c01-b7ec-3f711b0e0487",
      "metadata": {
        "id": "26adde02-8dff-4c01-b7ec-3f711b0e0487"
      },
      "source": [
        "# 17). Write code to merge two sorted lists into single sorted list."
      ]
    },
    {
      "cell_type": "code",
      "execution_count": null,
      "id": "4f7232a4-5ae6-4767-866f-52569a505f9e",
      "metadata": {
        "id": "4f7232a4-5ae6-4767-866f-52569a505f9e"
      },
      "outputs": [],
      "source": [
        "def merge_two_list(list1,list2):\n",
        "    merge_list=[]\n",
        "    for i in sorted(list1):\n",
        "        merge_list.append(i)\n",
        "    for j in sorted(list2):\n",
        "        merge_list.append(j)\n",
        "    return sorted(merge_list)\n"
      ]
    },
    {
      "cell_type": "code",
      "execution_count": null,
      "id": "b326d474-2d9f-4a69-989f-c045b42d8cba",
      "metadata": {
        "id": "b326d474-2d9f-4a69-989f-c045b42d8cba",
        "outputId": "89198f86-3379-40c7-ea90-9381ab505976"
      },
      "outputs": [
        {
          "data": {
            "text/plain": [
              "[11, 13, 20, 30, 100, 111]"
            ]
          },
          "execution_count": 144,
          "metadata": {},
          "output_type": "execute_result"
        }
      ],
      "source": [
        "l1=[111, 13, 11]\n",
        "l2=[20, 30, 100]\n",
        "merge_two_list(l1,l2)"
      ]
    },
    {
      "cell_type": "markdown",
      "id": "538c7fa9-d865-4fdd-94cd-3255f0380f10",
      "metadata": {
        "id": "538c7fa9-d865-4fdd-94cd-3255f0380f10"
      },
      "source": [
        "# 18).  Implement code to find the intersection of two given lists."
      ]
    },
    {
      "cell_type": "code",
      "execution_count": null,
      "id": "2305de1e-d2ea-47be-97c0-2cdb6a2e7044",
      "metadata": {
        "id": "2305de1e-d2ea-47be-97c0-2cdb6a2e7044"
      },
      "outputs": [],
      "source": [
        "l1=[111, 13,20,300,50,60,800,500,600,11]\n",
        "l2=[20, 30, 100,40,500,11,200,300,13,77,88,99,90,65,50]\n",
        "def intersection_ele(l1,l2):\n",
        "    # initialize a empty list\n",
        "    intersection_list=[]\n",
        "    # iterate the first list\n",
        "    for ele in l2:\n",
        "        # iterate the first list\n",
        "        for item in l1:\n",
        "            #check conditon if element in first list and element in second list are same then add to intersection_list\n",
        "            if ele==item:\n",
        "                intersection_list.append(ele)\n",
        "    return intersection_list\n",
        "\n"
      ]
    },
    {
      "cell_type": "code",
      "execution_count": null,
      "id": "281eb6a6-9148-4036-a32f-97dc48ec917d",
      "metadata": {
        "id": "281eb6a6-9148-4036-a32f-97dc48ec917d",
        "outputId": "81d685bd-365b-4745-8e1e-3e190ec22ce6"
      },
      "outputs": [
        {
          "data": {
            "text/plain": [
              "[20, 500, 11, 300, 13, 50]"
            ]
          },
          "execution_count": 203,
          "metadata": {},
          "output_type": "execute_result"
        }
      ],
      "source": [
        "l1=[111, 13,20,300,50,60,800,500,600,11]\n",
        "l2=[20, 30, 100,40,500,11,200,300,13,77,88,99,90,65,50]\n",
        "intersection_ele(l1,l2)"
      ]
    },
    {
      "cell_type": "markdown",
      "id": "064dfc1b-bd9a-42c0-bda3-64375a6ef904",
      "metadata": {
        "id": "064dfc1b-bd9a-42c0-bda3-64375a6ef904"
      },
      "source": [
        "# 19). Create code to find the union of two lists without duplicates."
      ]
    },
    {
      "cell_type": "code",
      "execution_count": null,
      "id": "26771c43-d3ee-4d9a-9633-e7aa33002a19",
      "metadata": {
        "id": "26771c43-d3ee-4d9a-9633-e7aa33002a19"
      },
      "outputs": [],
      "source": [
        "def union_lists(l1,l2):\n",
        "    # initialize a empty list\n",
        "    union_list=[]\n",
        "    # add the element of first list to the union _list\n",
        "    for i in l1:\n",
        "        list1.append(i)\n",
        "     # add the element of second list to the union _list\n",
        "    for j in l2:\n",
        "        # check condition if element is present in union _list then skip this elements\n",
        "        if j not in list1:\n",
        "            list1.append(j)\n",
        "        else:\n",
        "            continue\n",
        "\n",
        "    return list1\n",
        "\n"
      ]
    },
    {
      "cell_type": "code",
      "execution_count": null,
      "id": "5dd19a5b-f5a7-459f-87e4-2b63832e4c62",
      "metadata": {
        "id": "5dd19a5b-f5a7-459f-87e4-2b63832e4c62",
        "outputId": "5e9f1eea-9e2c-4d84-96c8-a8684365f5d8"
      },
      "outputs": [
        {
          "name": "stdout",
          "output_type": "stream",
          "text": [
            "[111, 40, 20, 300, 50, 60, 30, 100, 500, 11]\n"
          ]
        }
      ],
      "source": [
        "l1=[111, 40,20,300,50,60]\n",
        "l2=[20, 30, 100,40,500,11]\n",
        "print(union_list(l1,l2))"
      ]
    },
    {
      "cell_type": "markdown",
      "id": "c5d54b93-4a3a-463c-a75c-8f277510ca0d",
      "metadata": {
        "id": "c5d54b93-4a3a-463c-a75c-8f277510ca0d"
      },
      "source": [
        "# 20). Write code to shuffle  given list randommly without using  built-in shuffle function\n",
        "\u0012\n",
        "         "
      ]
    },
    {
      "cell_type": "code",
      "execution_count": null,
      "id": "aabd33b2-facf-4fb5-ace0-4b23a631f152",
      "metadata": {
        "id": "aabd33b2-facf-4fb5-ace0-4b23a631f152"
      },
      "outputs": [],
      "source": [
        "import random\n",
        "def suffle_list(list1):\n",
        "    list2=[]\n",
        "    index=random.randint(0,len(list1))\n",
        "    for ele in list1:\n",
        "        list2.insert(index,ele)\n",
        "    return list2\n",
        "\n",
        "\n"
      ]
    },
    {
      "cell_type": "code",
      "execution_count": null,
      "id": "1d74bddb-f6b7-4fe8-96f3-40f401cca032",
      "metadata": {
        "id": "1d74bddb-f6b7-4fe8-96f3-40f401cca032",
        "outputId": "538bfce4-2371-49fb-afbd-15aafbb9785b"
      },
      "outputs": [
        {
          "data": {
            "text/plain": [
              "['welcom', 'python', 45, 'numpy', 'pandas']"
            ]
          },
          "execution_count": 10,
          "metadata": {},
          "output_type": "execute_result"
        }
      ],
      "source": [
        "list1=[\"welcom\",'python',\"pandas\",\"numpy\",45]\n",
        "suffle_list(list1)"
      ]
    },
    {
      "cell_type": "code",
      "execution_count": null,
      "id": "51709798-58a3-4c45-823e-6895a841f20e",
      "metadata": {
        "id": "51709798-58a3-4c45-823e-6895a841f20e"
      },
      "outputs": [],
      "source": []
    },
    {
      "cell_type": "code",
      "execution_count": null,
      "id": "90b42f7e-815d-48da-b384-cdf462728f98",
      "metadata": {
        "id": "90b42f7e-815d-48da-b384-cdf462728f98"
      },
      "outputs": [],
      "source": []
    },
    {
      "cell_type": "markdown",
      "id": "24504021-ee22-4ce5-8357-c705d35167ef",
      "metadata": {
        "id": "24504021-ee22-4ce5-8357-c705d35167ef"
      },
      "source": [
        "# 21). Write ' %ode that take two tuples as input and returns a new tuple containing elements that are common to both input tuple."
      ]
    },
    {
      "cell_type": "code",
      "execution_count": null,
      "id": "4e1177aa-22a3-4a98-8ccb-17c5f3f8c462",
      "metadata": {
        "id": "4e1177aa-22a3-4a98-8ccb-17c5f3f8c462"
      },
      "outputs": [],
      "source": [
        "def comman_ele_tuple():\n",
        "    # first list  create list take element by user becoz we caant add eleement in tupple one by one tuple is immutable so created list\n",
        "    l1=[int(i) for i in input(\"Enter the element to first tuple by comma:\").split(',')]\n",
        "    #  create second list take element by user\n",
        "    l2=[int(i) for i in input(\"Enter the elementto second tuple by comma:\").split(',')]\n",
        "    # convert list to tuple\n",
        "    tuple1=tuple(l1)\n",
        "    tuple2=tuple(l2)\n",
        "    comman_list=[]\n",
        "    print(f\"first tuple {tuple1}\")\n",
        "    print(f\"Tuple second {tuple2}\")\n",
        "    # iterate the first tuple\n",
        "    for i in tuple1:\n",
        "        # check element in firste tuple are present in second tuple\n",
        "        if i in tuple2:\n",
        "            # add element to the comman_list\n",
        "            comman_list.append(i)\n",
        "    print(\"Comman element to bboth tuple are :\")\n",
        "    return tuple(comman_list)\n",
        "\n",
        "\n"
      ]
    },
    {
      "cell_type": "code",
      "execution_count": null,
      "id": "e9ddca40-5290-4d99-8bc4-c1270a353859",
      "metadata": {
        "id": "e9ddca40-5290-4d99-8bc4-c1270a353859",
        "outputId": "8f67fad8-1dca-4cbb-e03e-895dd75fd01d"
      },
      "outputs": [
        {
          "name": "stdin",
          "output_type": "stream",
          "text": [
            "Enter the element to first tuple by comma: 5,7,8,9\n",
            "Enter the elementto second tuple by comma: 6,7,4,3\n"
          ]
        },
        {
          "name": "stdout",
          "output_type": "stream",
          "text": [
            "first tuple (5, 7, 8, 9)\n",
            "Tuple second (6, 7, 4, 3)\n",
            "Comman element to bboth tuple are :\n"
          ]
        },
        {
          "data": {
            "text/plain": [
              "(7,)"
            ]
          },
          "execution_count": 79,
          "metadata": {},
          "output_type": "execute_result"
        }
      ],
      "source": [
        "comman_ele_tuple()"
      ]
    },
    {
      "cell_type": "markdown",
      "id": "0056093e-5ab8-483e-b94c-63b2b2e69f88",
      "metadata": {
        "id": "0056093e-5ab8-483e-b94c-63b2b2e69f88"
      },
      "source": [
        "# 22). Create code that propmt the user to enter two sets of integers separated by commas The  print the intsrcection of tsee t\n",
        "\u0012"
      ]
    },
    {
      "cell_type": "code",
      "execution_count": null,
      "id": "d910cf4b-c338-441d-a154-ff50ec12c35a",
      "metadata": {
        "id": "d910cf4b-c338-441d-a154-ff50ec12c35a"
      },
      "outputs": [],
      "source": []
    },
    {
      "cell_type": "code",
      "execution_count": null,
      "id": "ebc2b49e-d2af-455c-aa96-e350a691282f",
      "metadata": {
        "id": "ebc2b49e-d2af-455c-aa96-e350a691282f"
      },
      "outputs": [],
      "source": [
        "def intersec_set():\n",
        "    first_sets={int(i) for i in input(\"Enter the element to first set by comma:\").split(',')}\n",
        "    second_set={int(i) for i in input(\"Enter the elementto second set by comma:\").split(',')}\n",
        "    return first_sets.intersection(second_set)"
      ]
    },
    {
      "cell_type": "code",
      "execution_count": null,
      "id": "9132ee37-c4d1-4edf-8c80-c6e1c67bd210",
      "metadata": {
        "id": "9132ee37-c4d1-4edf-8c80-c6e1c67bd210",
        "outputId": "7077c887-1347-476b-876c-ab4c863709da"
      },
      "outputs": [
        {
          "name": "stdin",
          "output_type": "stream",
          "text": [
            "Enter the element to first set by comma: 5,6,7,8,9,0\n",
            "Enter the elementto second set by comma: 7,8,9,5,4,3\n"
          ]
        },
        {
          "data": {
            "text/plain": [
              "{5, 7, 8, 9}"
            ]
          },
          "execution_count": 54,
          "metadata": {},
          "output_type": "execute_result"
        }
      ],
      "source": [
        "intersec_set()"
      ]
    },
    {
      "cell_type": "code",
      "execution_count": null,
      "id": "ef7c9769-a58b-4ad8-b0f6-133dcbfb0211",
      "metadata": {
        "id": "ef7c9769-a58b-4ad8-b0f6-133dcbfb0211",
        "outputId": "2e6a4db5-5396-46ee-c5d2-95a98e5ff40e"
      },
      "outputs": [
        {
          "data": {
            "text/plain": [
              "{5, 6, 7, 8}"
            ]
          },
          "execution_count": 49,
          "metadata": {},
          "output_type": "execute_result"
        }
      ],
      "source": [
        "\n"
      ]
    },
    {
      "cell_type": "markdown",
      "id": "4d6beef2-5338-4077-b3fd-2564fad1cdf7",
      "metadata": {
        "id": "4d6beef2-5338-4077-b3fd-2564fad1cdf7"
      },
      "source": [
        "# 23)Write ' code to concatenate two tuple. The function should take two tuple as input and return a new ttupl ea%onta'ining elem\n",
        "ten\n",
        " foro\n",
        " both input tupl\n",
        "."
      ]
    },
    {
      "cell_type": "code",
      "execution_count": null,
      "id": "a330f890-2c50-44bf-bd85-73cc0e9eb705",
      "metadata": {
        "id": "a330f890-2c50-44bf-bd85-73cc0e9eb705",
        "outputId": "06157e49-1796-4b49-b8b6-b7adf7d5cee4"
      },
      "outputs": [
        {
          "name": "stdin",
          "output_type": "stream",
          "text": [
            "enter the element to the first tuple 5,6,7,8\n",
            "enter the element to the second  tuple 6,7,8,9,70\n"
          ]
        },
        {
          "data": {
            "text/plain": [
              "(5, 6, 7, 8, 6, 7, 8, 9, 70)"
            ]
          },
          "execution_count": 90,
          "metadata": {},
          "output_type": "execute_result"
        }
      ],
      "source": [
        "def concat_tuple(first_tup,second_tup):\n",
        "    concat_list=[]\n",
        "    # iterate the first tuple\n",
        "    for ele in first_tup:\n",
        "        #add ele in concat_list\n",
        "        concat_list.append(ele)\n",
        "    ## iterate the second tuple\n",
        "    for ele in second_tup:\n",
        "        #add ele in concat_list\n",
        "        concat_list.append(ele)\n",
        "        # return the concat tuple\n",
        "    return tuple(concat_list)\n",
        "\n",
        "first_tup=[int(i) for i in input(\"enter the element to the first tuple\").split(',')]\n",
        "second_tup=[int(i) for i in input(\"enter the element to the second  tuple\").split(',')]\n",
        "concat_tuple(first_tup,second_tup)\n",
        "\n",
        "\n"
      ]
    },
    {
      "cell_type": "code",
      "execution_count": null,
      "id": "e812f9b0-884a-459e-baac-70ad53416d05",
      "metadata": {
        "id": "e812f9b0-884a-459e-baac-70ad53416d05",
        "outputId": "a4280cb2-2df6-47cf-d835-4d973eafde83"
      },
      "outputs": [
        {
          "data": {
            "text/plain": [
              "(5, 6, 7, 7, 8, 990, 40)"
            ]
          },
          "execution_count": 89,
          "metadata": {},
          "output_type": "execute_result"
        }
      ],
      "source": [
        "concat_tuple(first_tup,second_tup)"
      ]
    },
    {
      "cell_type": "markdown",
      "id": "7358be60-56ea-411d-8c0f-d6ce2858dcd1",
      "metadata": {
        "id": "7358be60-56ea-411d-8c0f-d6ce2858dcd1"
      },
      "source": [
        "# 24). Develop  code that prompts the user to input two sets of strings. Then print the elements that are present in the first set but not in the second set"
      ]
    },
    {
      "cell_type": "code",
      "execution_count": null,
      "id": "433d1f71-27a3-4e75-84fc-23411686b4f0",
      "metadata": {
        "id": "433d1f71-27a3-4e75-84fc-23411686b4f0"
      },
      "outputs": [],
      "source": [
        "def set_differnce():\n",
        "    # take a input from user using list comprehension\n",
        "    first_sets={i for i in input(\"Enter the element to first set by comma:\").split(',')}\n",
        "    second_set={i for i in input(\"Enter the elementto second set by comma:\").split(',')}\n",
        "    # by using difference()\n",
        "    return first_sets.difference(second_set)\n",
        "\n"
      ]
    },
    {
      "cell_type": "code",
      "execution_count": null,
      "id": "bb5ab70e-0d62-4086-af3b-727e8ee99697",
      "metadata": {
        "id": "bb5ab70e-0d62-4086-af3b-727e8ee99697",
        "outputId": "2af1706c-6fa7-4a04-af5b-e00294dcf244"
      },
      "outputs": [
        {
          "name": "stdin",
          "output_type": "stream",
          "text": [
            "Enter the element to first set by comma: 1,2,3,4,66,5,6,77,88,99,100\n",
            "Enter the elementto second set by comma: 100,99,20,30,55,77,99\n"
          ]
        },
        {
          "data": {
            "text/plain": [
              "{'1', '2', '3', '4', '5', '6', '66', '88'}"
            ]
          },
          "execution_count": 69,
          "metadata": {},
          "output_type": "execute_result"
        }
      ],
      "source": [
        "set_differnce()"
      ]
    },
    {
      "cell_type": "markdown",
      "id": "a8b5dd52-1163-4223-928c-a92161b3fae4",
      "metadata": {
        "id": "a8b5dd52-1163-4223-928c-a92161b3fae4"
      },
      "source": [
        "# 25). writ a code that takes a tuple and two integers as input. The function should return anew tuple containing elements from the original tuple within the specified range of indices"
      ]
    },
    {
      "cell_type": "code",
      "execution_count": null,
      "id": "69bd2b3f-150f-433b-80dc-17d87de394cc",
      "metadata": {
        "id": "69bd2b3f-150f-433b-80dc-17d87de394cc"
      },
      "outputs": [],
      "source": [
        "#tuple1=('Apple','Mango','Banana','Grapes','Lemonsweets')\n",
        "#sub_part('Mango','Banana','Grapes')\n",
        "\n",
        "def sub_tuples():\n",
        "    # use list comprehesion for user input\n",
        "    list1=[i for i in input(\"enter the element to tuple:\") .split()]\n",
        "    # user input for taking value of x from user\n",
        "    x=int(input(\"Enter the starting index :\"))\n",
        "    # user input for taking value of y from user\n",
        "    y=int(input(\"Enter the ending index : \"))\n",
        "    # convert the list into tuple\n",
        "    tuple1=tuple(list1)\n",
        "    # return sub part of tuple means pass in index then get the new tuple sub part of\n",
        "    #tuple containing elements from the original tuple within the specified range of indices\n",
        "    return tuple1[x:y]\n",
        "\n"
      ]
    },
    {
      "cell_type": "code",
      "execution_count": null,
      "id": "fa85ba8b-5a02-4dc0-995a-55ca73cbddad",
      "metadata": {
        "id": "fa85ba8b-5a02-4dc0-995a-55ca73cbddad",
        "outputId": "16673759-a040-402d-9d76-4daf5c58bb36"
      },
      "outputs": [
        {
          "name": "stdin",
          "output_type": "stream",
          "text": [
            "enter the element to tuple: Apple Mango Banana Grapes Lemonsweets\n",
            "Enter the starting index : 2\n",
            "Enter the ending index :  4\n"
          ]
        },
        {
          "data": {
            "text/plain": [
              "('Banana', 'Grapes')"
            ]
          },
          "execution_count": 63,
          "metadata": {},
          "output_type": "execute_result"
        }
      ],
      "source": [
        "sub_tuples()"
      ]
    },
    {
      "cell_type": "markdown",
      "id": "c91da22f-86a2-4084-b5d7-186d6d560e5d",
      "metadata": {
        "id": "c91da22f-86a2-4084-b5d7-186d6d560e5d"
      },
      "source": [
        "# 26). Write  code that prompts the user to input two sets of characters. Then print the union of this two sets.'\n",
        "        \n",
        "    "
      ]
    },
    {
      "cell_type": "code",
      "execution_count": null,
      "id": "590fe6ec-ff84-438d-8bd1-324ecac24dfa",
      "metadata": {
        "id": "590fe6ec-ff84-438d-8bd1-324ecac24dfa"
      },
      "outputs": [],
      "source": [
        "def set_union():\n",
        "    # take a input from user using list comprehension\n",
        "    first_sets={i for i in input(\"Enter the char element to first set by comma:\").split(',')}\n",
        "    second_set={i for i in input(\"Enter the char  element to second set by comma:\").split(',')}\n",
        "    # by using difference()\n",
        "    return first_sets.union(second_set)"
      ]
    },
    {
      "cell_type": "code",
      "execution_count": null,
      "id": "88b2489d-6b02-4feb-a0c7-d860ec482c8c",
      "metadata": {
        "id": "88b2489d-6b02-4feb-a0c7-d860ec482c8c",
        "outputId": "4e033f4f-9b34-4a4a-d3b0-11810dc85612"
      },
      "outputs": [
        {
          "name": "stdin",
          "output_type": "stream",
          "text": [
            "Enter the char element to first set by comma: neha,amar,ram,puja,uday,chhaya,anjali\n",
            "Enter the char  element to second set by comma: amar,neha,gita,gayu,pihu,abhi,ram\n"
          ]
        },
        {
          "data": {
            "text/plain": [
              "{'abhi',\n",
              " 'amar',\n",
              " 'anjali',\n",
              " 'chhaya',\n",
              " 'gayu',\n",
              " 'gita',\n",
              " 'neha',\n",
              " 'pihu',\n",
              " 'puja',\n",
              " 'ram',\n",
              " 'uday'}"
            ]
          },
          "execution_count": 73,
          "metadata": {},
          "output_type": "execute_result"
        }
      ],
      "source": [
        "set_union()"
      ]
    },
    {
      "cell_type": "markdown",
      "id": "c0eab170-3c8f-49d6-bb3a-0249c12976b4",
      "metadata": {
        "id": "c0eab170-3c8f-49d6-bb3a-0249c12976b4"
      },
      "source": [
        "#  27). Develop a code that takes a tuple of integers as input.# The function should return the maximum and minimum value from the tuple using  tuple  unpacking"
      ]
    },
    {
      "cell_type": "code",
      "execution_count": null,
      "id": "c51c1fee-434d-4163-8165-fd5f4711739d",
      "metadata": {
        "id": "c51c1fee-434d-4163-8165-fd5f4711739d",
        "outputId": "fd3c97f8-5891-49b9-f244-5d0802847a0b"
      },
      "outputs": [
        {
          "name": "stdin",
          "output_type": "stream",
          "text": [
            "Enter the element to tuple by comma: 50,60,40,20\n"
          ]
        },
        {
          "data": {
            "text/plain": [
              "' maximum value : 60 minumum value : 20'"
            ]
          },
          "execution_count": 9,
          "metadata": {},
          "output_type": "execute_result"
        }
      ],
      "source": [
        "def min_max_value(tuple1):\n",
        "    # createa max_value and min_value variable to stored first element to both variable\n",
        "    max_value=tuple1[0]\n",
        "    min_value=tuple1[0]\n",
        "    # iterate the tuple1\n",
        "    for i in tuple1:\n",
        "        #check the t tuple element is i is greater than max_value\n",
        "        if i> max_value:\n",
        "            # assign the i element to the max_value\n",
        "            max_value=i\n",
        "         #  i element is less than max_value then condition is false go to else part\n",
        "        else:\n",
        "            # assign the i elementto the min_value\n",
        "            min_value=i\n",
        "\n",
        "\n",
        "    return f\" maximum value : {max_value} minumum value : {min_value}\"\n",
        "\n",
        "#  create first tuple take element by user use comprehension\n",
        "tuple1=(int(i) for i in input(\"Enter the element to tuple by comma:\").split(','))\n",
        "list1=list(tuple1)\n",
        "min_max_value(list1)"
      ]
    },
    {
      "cell_type": "code",
      "execution_count": null,
      "id": "27635ba1-0b3a-4b67-97ce-61c037485fd7",
      "metadata": {
        "id": "27635ba1-0b3a-4b67-97ce-61c037485fd7",
        "outputId": "26b906a7-e856-465d-a090-609c9e6eb8f3"
      },
      "outputs": [
        {
          "data": {
            "text/plain": [
              "' maximum value : 8 minumum value : 5'"
            ]
          },
          "execution_count": 4,
          "metadata": {},
          "output_type": "execute_result"
        }
      ],
      "source": []
    },
    {
      "cell_type": "markdown",
      "id": "dbd197ab-3c53-4738-9c6e-a9a6e02adddc",
      "metadata": {
        "id": "dbd197ab-3c53-4738-9c6e-a9a6e02adddc"
      },
      "source": [
        "# 28)   Create  code that defines two sets of integers. Then print the union intersection and difference of theset two sets"
      ]
    },
    {
      "cell_type": "code",
      "execution_count": null,
      "id": "2b6a21b4-698d-4d36-b317-854cc948533d",
      "metadata": {
        "id": "2b6a21b4-698d-4d36-b317-854cc948533d"
      },
      "outputs": [],
      "source": [
        "def set_opration():\n",
        "    # define a two sets which is take a integer elements use set comprehension\n",
        "    first_set={int(i) for i in input(\"Enter the numbers to the the first sets seprated by  space:\").split()}\n",
        "    second_set={int(i) for i in input(\"Enter the numbers to the the second set separated by space:\").split()}\n",
        "    #return first_set, second_set\n",
        "    while True:\n",
        "        choice=input(\"Do you want to continue Y/N\")\n",
        "        if choice.upper() !=('Y'):\n",
        "            break\n",
        "        else:\n",
        "            print('*'*50,'Menu','*'*50)\n",
        "            print(\" 1. Union \\n 2. Intersection \\n 3. Difference  \")\n",
        "            print('*'*50,'End','*'*50)\n",
        "            ch=int(input(\" Enter your choice from above Menu:  \"))\n",
        "            if ch==1:\n",
        "                print(f\"  first set: {first_set}\\n second set :  {second_set}\")\n",
        "                print(f\"Union of two sets are{first_set.union(second_set)}\")\n",
        "            elif ch==2:\n",
        "                print(f\"  first set: {first_set}\\n second set :  {second_set}\")\n",
        "                print(f\" Intersection  of two sets are{first_set.intersection(second_set)}\")\n",
        "            elif ch==3:\n",
        "                print(f\"  first set: {first_set}\\n second set :  {second_set}\")\n",
        "                print(f\" Differnce is the element present in first set not in second set:  {first_set.difference(second_set)}\")\n",
        "                print(f\" Differnce is the element present in second set not in first set:  {second_set.difference(first_set)}\")\n",
        "\n",
        "            else:\n",
        "                print(\"Enter the Valid Option from Menu\")\n"
      ]
    },
    {
      "cell_type": "code",
      "execution_count": null,
      "id": "01966b3e-f9c8-4048-b787-96ea0707c21a",
      "metadata": {
        "id": "01966b3e-f9c8-4048-b787-96ea0707c21a",
        "outputId": "9504ae8d-81ba-4050-ec24-cc60883fad75"
      },
      "outputs": [
        {
          "name": "stdin",
          "output_type": "stream",
          "text": [
            "Enter the numbers to the the first sets seprated by  space: 5 6 7 8 9 2 1\n",
            "Enter the numbers to the the second set separated by space: 4 5 6 7 9 89 33\n",
            "Do you want to continue Y/N y\n"
          ]
        },
        {
          "name": "stdout",
          "output_type": "stream",
          "text": [
            "************************************************** Menu **************************************************\n",
            " 1. Union \n",
            " 2. Intersection \n",
            " 3. Difference  \n",
            "************************************************** End **************************************************\n"
          ]
        },
        {
          "name": "stdin",
          "output_type": "stream",
          "text": [
            " Enter your choice from above Menu:   3\n"
          ]
        },
        {
          "name": "stdout",
          "output_type": "stream",
          "text": [
            "  first set: {1, 2, 5, 6, 7, 8, 9}\n",
            " second set :  {33, 4, 5, 6, 7, 9, 89}\n",
            " Differnce is the element present in first set not in second set:  {8, 1, 2}\n",
            " Differnce is the element present in second set not in first set:  {89, 33, 4}\n"
          ]
        },
        {
          "name": "stdin",
          "output_type": "stream",
          "text": [
            "Do you want to continue Y/N y\n"
          ]
        },
        {
          "name": "stdout",
          "output_type": "stream",
          "text": [
            "************************************************** Menu **************************************************\n",
            " 1. Union \n",
            " 2. Intersection \n",
            " 3. Difference  \n",
            "************************************************** End **************************************************\n"
          ]
        },
        {
          "name": "stdin",
          "output_type": "stream",
          "text": [
            " Enter your choice from above Menu:   1\n"
          ]
        },
        {
          "name": "stdout",
          "output_type": "stream",
          "text": [
            "  first set: {1, 2, 5, 6, 7, 8, 9}\n",
            " second set :  {33, 4, 5, 6, 7, 9, 89}\n",
            "Union of two sets are{1, 2, 33, 4, 5, 6, 7, 8, 9, 89}\n"
          ]
        },
        {
          "name": "stdin",
          "output_type": "stream",
          "text": [
            "Do you want to continue Y/N y\n"
          ]
        },
        {
          "name": "stdout",
          "output_type": "stream",
          "text": [
            "************************************************** Menu **************************************************\n",
            " 1. Union \n",
            " 2. Intersection \n",
            " 3. Difference  \n",
            "************************************************** End **************************************************\n"
          ]
        },
        {
          "name": "stdin",
          "output_type": "stream",
          "text": [
            " Enter your choice from above Menu:   2\n"
          ]
        },
        {
          "name": "stdout",
          "output_type": "stream",
          "text": [
            "  first set: {1, 2, 5, 6, 7, 8, 9}\n",
            " second set :  {33, 4, 5, 6, 7, 9, 89}\n",
            " Intersection  of two sets are{9, 5, 6, 7}\n"
          ]
        },
        {
          "name": "stdin",
          "output_type": "stream",
          "text": [
            "Do you want to continue Y/N v\n"
          ]
        }
      ],
      "source": [
        "set_opration()"
      ]
    },
    {
      "cell_type": "markdown",
      "id": "e01b5566-9c64-4a18-a7cd-9ab6a58861a5",
      "metadata": {
        "id": "e01b5566-9c64-4a18-a7cd-9ab6a58861a5"
      },
      "source": [
        "# 29). Write code that takes  tuple and  input and elment as input. The function should return the count of occurrences of the given element in the tuple."
      ]
    },
    {
      "cell_type": "code",
      "execution_count": null,
      "id": "e406d7e4-be02-40b3-ab94-f8d65ec4223d",
      "metadata": {
        "id": "e406d7e4-be02-40b3-ab94-f8d65ec4223d"
      },
      "outputs": [],
      "source": [
        "def count_occurence_of_tuple():\n",
        "    tuple1=(i for i in input(\"Enter the elements to the tuple:\").split() )\n",
        "    item=input(\"Enter the element to count the occurence in tuple\")\n",
        "    d={}\n",
        "    for ele in tuple1:\n",
        "        if item == ele:\n",
        "            if item in d:\n",
        "                d[item]+=1\n",
        "            else:\n",
        "                 d[item]=1\n",
        "    return f\"{item} is present:  {d[item]}\"\n"
      ]
    },
    {
      "cell_type": "code",
      "execution_count": null,
      "id": "05c22ada-c5f2-4d72-a418-6e1d05ddd1d9",
      "metadata": {
        "id": "05c22ada-c5f2-4d72-a418-6e1d05ddd1d9",
        "outputId": "a6c2b5e9-67d4-462a-e94d-dcb7ce2fb4a1"
      },
      "outputs": [
        {
          "name": "stdin",
          "output_type": "stream",
          "text": [
            "Enter the elements to the tuple: tea coffee milk suger tea rice dettol oil tea peanuts rice coconutoil oreo rice oil \n",
            "Enter the element to count the occurence in tuple tea\n"
          ]
        },
        {
          "name": "stdout",
          "output_type": "stream",
          "text": [
            "[]\n"
          ]
        },
        {
          "data": {
            "text/plain": [
              "'tea is present:  3'"
            ]
          },
          "execution_count": 80,
          "metadata": {},
          "output_type": "execute_result"
        }
      ],
      "source": [
        "\n",
        "count_occurence_of_tuple()"
      ]
    },
    {
      "cell_type": "markdown",
      "id": "cc499ef8-9584-480f-b353-f59db7fed707",
      "metadata": {
        "id": "cc499ef8-9584-480f-b353-f59db7fed707"
      },
      "source": [
        "# 30) Develop  code that prompts the user to input two sets of strings.Then print the symmetric difference of these two sets.                             "
      ]
    },
    {
      "cell_type": "code",
      "execution_count": null,
      "id": "1a9b1183-981e-4694-9834-55d8322919bd",
      "metadata": {
        "id": "1a9b1183-981e-4694-9834-55d8322919bd"
      },
      "outputs": [],
      "source": [
        "def symmetric_difference_of_set():\n",
        "    # define a two sets which is take a integer elements use set comprehension\n",
        "    first_set={int(i) for i in input(\"Enter the numbers to the the first sets seprated by  space:\").split()}\n",
        "    second_set={int(i) for i in input(\"Enter the numbers to the the second set separated by space:\").split()}\n",
        "    return f\"symmetric difference of these two sets : {first_set} and {second_set} is: {first_set.symmetric_difference(second_set)}\"\n"
      ]
    },
    {
      "cell_type": "code",
      "execution_count": null,
      "id": "14a3d577-b166-4856-9fef-27c153fb384d",
      "metadata": {
        "id": "14a3d577-b166-4856-9fef-27c153fb384d",
        "outputId": "eda9442c-d5de-4b67-9430-7347f4a4b053"
      },
      "outputs": [
        {
          "name": "stdin",
          "output_type": "stream",
          "text": [
            "Enter the numbers to the the first sets seprated by  space: 3 4 5 6 7 8 2 1\n",
            "Enter the numbers to the the second set separated by space: 6 7 8 9 3 5 9 10\n"
          ]
        },
        {
          "data": {
            "text/plain": [
              "'symmetric difference of these two sets : {1, 2, 3, 4, 5, 6, 7, 8} and {3, 5, 6, 7, 8, 9, 10} is: {1, 2, 4, 9, 10}'"
            ]
          },
          "execution_count": 27,
          "metadata": {},
          "output_type": "execute_result"
        }
      ],
      "source": [
        "symmetric_difference_of_set()"
      ]
    },
    {
      "cell_type": "markdown",
      "id": "c1c54888-8508-42a1-8dae-8a1bbbea7def",
      "metadata": {
        "id": "c1c54888-8508-42a1-8dae-8a1bbbea7def"
      },
      "source": [
        "# 31) & Write  code that takes a list of words as input and returns a dictionary where the keys are unique words and the values are the friq uencies of those words in the input list."
      ]
    },
    {
      "cell_type": "code",
      "execution_count": null,
      "id": "bc396578-e23b-42c5-9046-f5b33606696b",
      "metadata": {
        "id": "bc396578-e23b-42c5-9046-f5b33606696b"
      },
      "outputs": [],
      "source": [
        "def word_frequency():\n",
        "    # take a element to  grocery_list\n",
        "    grocery_list=[item for item in input(\"Enter the item to the list seperated by space: \").split()]\n",
        "    # create one dict to store frequency of world\n",
        "    print(grocery_list)\n",
        "    grocery_dict={}\n",
        "    # iterate the grocery_list\n",
        "    for ele in  grocery_list:\n",
        "        # in case the item is already present in dict the the value of that item is increament by 1\n",
        "        if ele in  grocery_dict:\n",
        "             grocery_dict[ele]+=1\n",
        "        else:\n",
        "            # item is not present in grocery_dict then add the item as key and value first time is 1\n",
        "             grocery_dict[ele]=1\n",
        "    return  grocery_dict\n"
      ]
    },
    {
      "cell_type": "code",
      "execution_count": null,
      "id": "d1ef7559-9022-47c2-bad2-0d0bd49a0d31",
      "metadata": {
        "id": "d1ef7559-9022-47c2-bad2-0d0bd49a0d31",
        "outputId": "fb012861-200e-4638-a439-e526918e541f"
      },
      "outputs": [
        {
          "name": "stdin",
          "output_type": "stream",
          "text": [
            "Enter the item to the list seperated by space:      tea coffee milk suger tea rice dettol oil tea peanuts rice coconutoil oreo rice oil \n"
          ]
        },
        {
          "name": "stdout",
          "output_type": "stream",
          "text": [
            "['tea', 'coffee', 'milk', 'suger', 'tea', 'rice', 'dettol', 'oil', 'tea', 'peanuts', 'rice', 'coconutoil', 'oreo', 'rice', 'oil']\n"
          ]
        },
        {
          "data": {
            "text/plain": [
              "{'tea': 3,\n",
              " 'coffee': 1,\n",
              " 'milk': 1,\n",
              " 'suger': 1,\n",
              " 'rice': 3,\n",
              " 'dettol': 1,\n",
              " 'oil': 2,\n",
              " 'peanuts': 1,\n",
              " 'coconutoil': 1,\n",
              " 'oreo': 1}"
            ]
          },
          "execution_count": 53,
          "metadata": {},
          "output_type": "execute_result"
        }
      ],
      "source": [
        "word_frequency()"
      ]
    },
    {
      "cell_type": "markdown",
      "id": "8489193b-4374-409d-b446-4f0f2c3459ab",
      "metadata": {
        "id": "8489193b-4374-409d-b446-4f0f2c3459ab"
      },
      "source": [
        "# 32). Write  code that takes two dictionaries as input and merges them into  single dictionary. If there are common keys the values should be added together."
      ]
    },
    {
      "cell_type": "code",
      "execution_count": null,
      "id": "1b9048b0-0af7-4859-9eb2-9fae7549f176",
      "metadata": {
        "id": "1b9048b0-0af7-4859-9eb2-9fae7549f176"
      },
      "outputs": [],
      "source": []
    },
    {
      "cell_type": "code",
      "execution_count": null,
      "id": "9481b597-5b0a-4229-a3f1-8e6dc653eed9",
      "metadata": {
        "id": "9481b597-5b0a-4229-a3f1-8e6dc653eed9"
      },
      "outputs": [],
      "source": [
        "student_dict={'name':\"Ram\",'age':23,'address':\"Pune\",'mob':6754326783}\n",
        "employee_dict={'empid':101,'email':\"ram@gmail.com\",'address':\"Mumbai\",'mob':7865436798}\n",
        "#op={'name':\"Ram\",'age':23,'address':[\"Pune\",\"Mumbai\"],'mob':[6754326783,7865436798],'email':\"ram@gmail.com\"}\n",
        "# take empty dict\n",
        "merge_dict={}\n",
        "# First, copy all items from student_dict to merge_dict\n",
        "for key , value in student_dict.items():\n",
        "    merge_dict[key]=value\n",
        "# second add all items from emploemployee_dict to merge_dict\n",
        "for k,v in employee_dict.items():\n",
        "    # If the key is already in merge_dict, convert to a list if not already a list then add new key value paire\n",
        "    if k in merge_dict:\n",
        "        if not isinstance(merge_dict[k],list):\n",
        "            merge_dict[k]=[merge_dict[k]]\n",
        "        merge_dict[k].append(v)\n",
        "    else:\n",
        "        merge_dict[k]=v\n",
        "\n"
      ]
    },
    {
      "cell_type": "code",
      "execution_count": null,
      "id": "a455a7c5-5922-4da8-a1a5-11ad9778d22f",
      "metadata": {
        "id": "a455a7c5-5922-4da8-a1a5-11ad9778d22f",
        "outputId": "43fc86a8-a0dd-4ebe-aa33-cedd79da49f8"
      },
      "outputs": [
        {
          "data": {
            "text/plain": [
              "{'name': 'Ram',\n",
              " 'age': 23,\n",
              " 'address': ['Pune', 'Mumbai'],\n",
              " 'mob': [6754326783, 7865436798],\n",
              " 'empid': 101,\n",
              " 'email': 'ram@gmail.com'}"
            ]
          },
          "execution_count": 45,
          "metadata": {},
          "output_type": "execute_result"
        }
      ],
      "source": [
        "merge_dict"
      ]
    },
    {
      "cell_type": "code",
      "execution_count": null,
      "id": "6697d2e2-5072-42b2-93dd-62e91338683d",
      "metadata": {
        "id": "6697d2e2-5072-42b2-93dd-62e91338683d"
      },
      "outputs": [],
      "source": [
        "#take a two dictinares\n",
        "def merge_dict():\n",
        "    number=int(input(\"how many records do you want to enter:\"))\n",
        "    print(\"Enter the first dictionary data\")\n",
        "    first_dict={input(\"Enter thekey: \"):input(\"Enter the value: \") for i in range(number)  }\n",
        "    print(\"Enter the second dictionary data\")\n",
        "    second_dict={input(\"Enter thekey: \"):input(\"Enter the value: \") for i in range(number)  }\n",
        "    merge_data={}\n",
        "    print(f\" First dict :{first_dict} \\n Second Dict:-  {second_dict}\")\n",
        "    for key,value in first_dict.items():\n",
        "        merge_data[key]=value\n",
        "    for k , v in second_dict.items():\n",
        "        if k in merge_data:\n",
        "            merge_data[k]=[merge_data[k]]\n",
        "            merge_data[k].append(v)\n",
        "        else:\n",
        "            merge_data[k]=v\n",
        "    return merge_data\n"
      ]
    },
    {
      "cell_type": "code",
      "execution_count": null,
      "id": "5edfbf9d-9353-4952-a945-6ba9f3a0e7c1",
      "metadata": {
        "id": "5edfbf9d-9353-4952-a945-6ba9f3a0e7c1",
        "outputId": "e9c5e6d3-0368-41bc-e855-d248a7e889f9"
      },
      "outputs": [
        {
          "name": "stdin",
          "output_type": "stream",
          "text": [
            "how many records do you want to enter: 3\n"
          ]
        },
        {
          "name": "stdout",
          "output_type": "stream",
          "text": [
            "Enter the first dictionary data\n"
          ]
        },
        {
          "name": "stdin",
          "output_type": "stream",
          "text": [
            "Enter thekey:  name\n",
            "Enter the value:  ram\n",
            "Enter thekey:  age\n",
            "Enter the value:  23\n",
            "Enter thekey:  email\n",
            "Enter the value:  abhi@gmail.com\n"
          ]
        },
        {
          "name": "stdout",
          "output_type": "stream",
          "text": [
            "Enter the second dictionary data\n"
          ]
        },
        {
          "name": "stdin",
          "output_type": "stream",
          "text": [
            "Enter thekey:  empid\n",
            "Enter the value:  101\n",
            "Enter thekey:  address\n",
            "Enter the value:  pune\n",
            "Enter thekey:  email\n",
            "Enter the value:  abhi34@gmail.com\n"
          ]
        },
        {
          "name": "stdout",
          "output_type": "stream",
          "text": [
            " First dict :{'name': 'ram', 'age': '23', 'email': 'abhi@gmail.com'} \n",
            " Second Dict:-  {'empid': '101', 'address': 'pune', 'email': 'abhi34@gmail.com'}\n"
          ]
        },
        {
          "data": {
            "text/plain": [
              "{'name': 'ram',\n",
              " 'age': '23',\n",
              " 'email': ['abhi@gmail.com', 'abhi34@gmail.com'],\n",
              " 'empid': '101',\n",
              " 'address': 'pune'}"
            ]
          },
          "execution_count": 43,
          "metadata": {},
          "output_type": "execute_result"
        }
      ],
      "source": [
        "merge_dict()\n",
        "\n"
      ]
    },
    {
      "cell_type": "markdown",
      "id": "023f686a-a6b2-40d4-a552-7027f89d9822",
      "metadata": {
        "id": "023f686a-a6b2-40d4-a552-7027f89d9822"
      },
      "source": [
        "# 33) Write a code to access  value in a nested dictionary. The function should take the dictionary and  list of keys as input and return the corresponding value If any of the keys do not exist in the dictionary the function should return None"
      ]
    },
    {
      "cell_type": "code",
      "execution_count": null,
      "id": "1b0ea9ed-1a48-4a5f-b661-12b29f5d4dd1",
      "metadata": {
        "id": "1b0ea9ed-1a48-4a5f-b661-12b29f5d4dd1"
      },
      "outputs": [],
      "source": [
        "def nested_dict_value(d,list_key):\n",
        "    \"\"\"\n",
        "    Access a value in a nested dictionary using a list of keys.\n",
        "\n",
        "    :param d: The nested dictionary to access.\n",
        "    :param list_key: A list of keys to navigate the nested dictionary.\n",
        "    \"\"\"\n",
        "    # Start at the top level of the dictionary\n",
        "    dict1=d\n",
        "    #Iterate through each key in the list\n",
        "    for key in list_key:\n",
        "        if isinstance(dict1,dict)  and key in dict1:\n",
        "            dict1=dict1[key] #Move to the next level of the dictionary\n",
        "            print(dict1) # return value\n",
        "\n",
        "        else:\n",
        "            print(None) # If the key is not found\n",
        "\n",
        "\n",
        "\n",
        "\n",
        "\n",
        "subjects= {\n",
        "            'math': {'score': 85, 'teacher': 'Mr. Sharma'},\n",
        "            'english': {'score': 90, 'teacher': 'Mrs. Verma'},\n",
        "            'science': {'score': 95, 'teacher': 'Ms. Iyer'}\n",
        "            }\n",
        "#key_list = ['student2', 'address', 'score']\n",
        "#nested_dict_value(student_data,key_list)"
      ]
    },
    {
      "cell_type": "code",
      "execution_count": null,
      "id": "2230459e-a636-4941-a81d-d943aeeb20f9",
      "metadata": {
        "id": "2230459e-a636-4941-a81d-d943aeeb20f9",
        "outputId": "1b2f0aea-e967-4228-e6cf-ac26903a5407"
      },
      "outputs": [
        {
          "name": "stdout",
          "output_type": "stream",
          "text": [
            "{'score': 95, 'teacher': 'Ms. Iyer'}\n",
            "95\n"
          ]
        }
      ],
      "source": [
        "\n",
        "key_list =[ 'science','score']\n",
        "nested_dict_value(subjects,key_list)\n",
        "\n",
        "\n"
      ]
    },
    {
      "cell_type": "code",
      "execution_count": null,
      "id": "5bc5f002-b6c5-4926-a39f-2250663ba6d9",
      "metadata": {
        "id": "5bc5f002-b6c5-4926-a39f-2250663ba6d9"
      },
      "outputs": [],
      "source": []
    },
    {
      "cell_type": "code",
      "execution_count": null,
      "id": "4b389144-bc80-4eba-be48-a7943498fb88",
      "metadata": {
        "id": "4b389144-bc80-4eba-be48-a7943498fb88"
      },
      "outputs": [],
      "source": [
        "student_data = {\n",
        "    'student1': {\n",
        "        'name': 'Ravi Kumar',\n",
        "        'age': 21,\n",
        "        'address': {\n",
        "            'street': 'MG Road',\n",
        "            'city': 'Mumbai',\n",
        "            'state': 'Maharashtra',\n",
        "            'zip': '400001'\n",
        "        },\n",
        "        'subjects': {\n",
        "            'math': {'score': 85, 'teacher': 'Mr. Sharma'},\n",
        "            'english': {'score': 90, 'teacher': 'Mrs. Verma'},\n",
        "            'science': {'score': 95, 'teacher': 'Ms. Iyer'}\n",
        "        }\n",
        "    },\n",
        "    'student2': {\n",
        "        'name': 'Sita Patel',\n",
        "        'age': 22,\n",
        "        'address': {\n",
        "            'street': 'Brigade Road',\n",
        "            'city': 'Bangalore',\n",
        "            'state': 'Karnataka',\n",
        "            'zip': '560001'\n",
        "        },\n",
        "        'subjects': {\n",
        "            'math': {'score': 88, 'teacher': 'Mr. Nair'},\n",
        "            'english': {'score': 92, 'teacher': 'Ms. Reddy'},\n",
        "            'science': {'score': 89, 'teacher': 'Mr. Rao'}\n",
        "        }\n",
        "    },\n",
        "    'student3': {\n",
        "        'name': 'Anjali Singh',\n",
        "        'age': 20,\n",
        "        'address': {\n",
        "            'street': 'Park Street',\n",
        "            'city': 'Kolkata',\n",
        "            'state': 'West Bengal',\n",
        "            'zip': '700016'\n",
        "        },\n",
        "        'subjects': {\n",
        "            'math': {'score': 90, 'teacher': 'Mr. Banerjee'},\n",
        "            'english': {'score': 85, 'teacher': 'Mrs. Das'},\n",
        "            'science': {'score': 93, 'teacher': 'Ms. Chatterjee'}\n",
        "        }\n",
        "    }\n",
        "}\n",
        "\n",
        "\n",
        "\n"
      ]
    },
    {
      "cell_type": "code",
      "execution_count": null,
      "id": "c85eac9d-6798-40be-9ae0-80f366949aad",
      "metadata": {
        "id": "c85eac9d-6798-40be-9ae0-80f366949aad",
        "outputId": "b2a83967-dead-48f6-8bbf-aff34fe87c7c"
      },
      "outputs": [
        {
          "name": "stdout",
          "output_type": "stream",
          "text": [
            "{'name': 'Ravi Kumar', 'age': 21, 'address': {'street': 'MG Road', 'city': 'Mumbai', 'state': 'Maharashtra', 'zip': '400001'}, 'subjects': {'math': {'score': 85, 'teacher': 'Mr. Sharma'}, 'english': {'score': 90, 'teacher': 'Mrs. Verma'}, 'science': {'score': 95, 'teacher': 'Ms. Iyer'}}}\n",
            "21\n"
          ]
        }
      ],
      "source": [
        "key_list =[ 'address', 'science']\n",
        "#nested_dict_value(student_data,key_list)\n",
        "keys_list1 = ['student1','age']\n",
        "nested_dict_value(student_data,keys_list1)\n",
        "\n",
        "\n",
        "\n"
      ]
    },
    {
      "cell_type": "code",
      "execution_count": null,
      "id": "d6957410-c518-405b-be5a-a416dd3f8393",
      "metadata": {
        "id": "d6957410-c518-405b-be5a-a416dd3f8393",
        "outputId": "a3ba3652-2a68-4fb0-9413-0d77fadd8e54"
      },
      "outputs": [
        {
          "name": "stdout",
          "output_type": "stream",
          "text": [
            "{'name': 'Ravi Kumar', 'age': 21, 'address': {'street': 'MG Road', 'city': 'Mumbai', 'state': 'Maharashtra', 'zip': '400001'}, 'subjects': {'math': {'score': 85, 'teacher': 'Mr. Sharma'}, 'english': {'score': 90, 'teacher': 'Mrs. Verma'}, 'science': {'score': 95, 'teacher': 'Ms. Iyer'}}}\n",
            "{'math': {'score': 85, 'teacher': 'Mr. Sharma'}, 'english': {'score': 90, 'teacher': 'Mrs. Verma'}, 'science': {'score': 95, 'teacher': 'Ms. Iyer'}}\n",
            "{'score': 85, 'teacher': 'Mr. Sharma'}\n"
          ]
        }
      ],
      "source": [
        "keys_list2 = ['student1','subjects','math']\n",
        "nested_dict_value(student_data,keys_list2)\n"
      ]
    },
    {
      "cell_type": "code",
      "execution_count": null,
      "id": "a1cb23f1-afc4-48d0-bf9a-1f6a4f13fbcb",
      "metadata": {
        "id": "a1cb23f1-afc4-48d0-bf9a-1f6a4f13fbcb",
        "outputId": "03986e1b-cdf4-4d46-fed3-b418212d7be1"
      },
      "outputs": [
        {
          "name": "stdout",
          "output_type": "stream",
          "text": [
            "{'name': 'Anjali Singh', 'age': 20, 'address': {'street': 'Park Street', 'city': 'Kolkata', 'state': 'West Bengal', 'zip': '700016'}, 'subjects': {'math': {'score': 90, 'teacher': 'Mr. Banerjee'}, 'english': {'score': 85, 'teacher': 'Mrs. Das'}, 'science': {'score': 93, 'teacher': 'Ms. Chatterjee'}}}\n",
            "{'math': {'score': 90, 'teacher': 'Mr. Banerjee'}, 'english': {'score': 85, 'teacher': 'Mrs. Das'}, 'science': {'score': 93, 'teacher': 'Ms. Chatterjee'}}\n",
            "{'score': 93, 'teacher': 'Ms. Chatterjee'}\n",
            "Ms. Chatterjee\n"
          ]
        }
      ],
      "source": [
        "keys_list3 = ['student3', 'subjects', 'science', 'teacher']\n",
        "nested_dict_value(student_data,keys_list3)"
      ]
    },
    {
      "cell_type": "markdown",
      "id": "30368af1-b605-4810-857a-10f51a8dedcc",
      "metadata": {
        "id": "30368af1-b605-4810-857a-10f51a8dedcc"
      },
      "source": [
        "# 34) Write a code that takes a dictionary as input and returns a sorted version of it based on the values. You can choose whether to sort in ascending or descending orders"
      ]
    },
    {
      "cell_type": "code",
      "execution_count": null,
      "id": "ecbc10e1-415a-4a33-8e74-7a8bf9e88e9c",
      "metadata": {
        "id": "ecbc10e1-415a-4a33-8e74-7a8bf9e88e9c"
      },
      "outputs": [],
      "source": [
        "# this function used sorted() function\n",
        "def sorted_version(d):\n",
        "    print(\"*\"*50,\"Sorting Option\",\"*\"*50)\n",
        "    print(\"1.Ascending Sort\\n 2.Descending Sort\")\n",
        "    ch=int(input(\"Enter your choice from above option: \"))\n",
        "    if ch==1:\n",
        "        asc_sort=dict(sorted(d.items(),key=lambda item:item[1]))##sorts these items based on the value (item[1]).\n",
        "        return f\" sort by ascending {asc_sort}\"\n",
        "    elif ch==2:\n",
        "        dsc_sort=dict(sorted(d.items(),key=lambda item:item[1],reverse=True))\n",
        "\n",
        "        return f\" sort by descending {dsc_sort}\"\n",
        "    else:\n",
        "        return f\" You have entered incorect option \"\n"
      ]
    },
    {
      "cell_type": "code",
      "execution_count": null,
      "id": "153843eb-639b-4017-abbb-b73db5589fde",
      "metadata": {
        "id": "153843eb-639b-4017-abbb-b73db5589fde",
        "outputId": "543b6f9a-1022-4981-d050-e62617a65fee"
      },
      "outputs": [
        {
          "name": "stdout",
          "output_type": "stream",
          "text": [
            "************************************************** Sorting Option **************************************************\n",
            "1.Ascending Sort\n",
            " 2.Descending Sort\n"
          ]
        },
        {
          "name": "stdin",
          "output_type": "stream",
          "text": [
            "Enter your choice from above option:  1\n"
          ]
        },
        {
          "data": {
            "text/plain": [
              "\" sort by ascending {'physics': 64, 'math': 67, 'science': 89}\""
            ]
          },
          "execution_count": 113,
          "metadata": {},
          "output_type": "execute_result"
        }
      ],
      "source": [
        "d={'math':67,'science':89,'physics':64}\n",
        "#sorts these items based on the value (item[1]).\n",
        "sorted_version(d)\n"
      ]
    },
    {
      "cell_type": "code",
      "execution_count": null,
      "id": "c7e122af-5b61-48ea-b80a-84bc55301dfa",
      "metadata": {
        "id": "c7e122af-5b61-48ea-b80a-84bc55301dfa"
      },
      "outputs": [],
      "source": []
    },
    {
      "cell_type": "code",
      "execution_count": null,
      "id": "487d9886-462a-4701-95a0-a2eb66b51c91",
      "metadata": {
        "id": "487d9886-462a-4701-95a0-a2eb66b51c91",
        "outputId": "486097e8-f99c-4552-992a-d9cf203cddf3"
      },
      "outputs": [
        {
          "name": "stdout",
          "output_type": "stream",
          "text": [
            "************************************************** Sorting Option **************************************************\n",
            "1.Ascending Sort\n",
            " 2.Descending Sort\n"
          ]
        },
        {
          "name": "stdin",
          "output_type": "stream",
          "text": [
            "Enter your choice from above option:  2\n"
          ]
        },
        {
          "data": {
            "text/plain": [
              "\" sort by descending {'science': 89, 'math': 67, 'physics': 64}\""
            ]
          },
          "execution_count": 114,
          "metadata": {},
          "output_type": "execute_result"
        }
      ],
      "source": [
        "sorted_version(d)"
      ]
    },
    {
      "cell_type": "code",
      "execution_count": null,
      "id": "a482cf6f-560d-4986-8633-6c9b42c58521",
      "metadata": {
        "id": "a482cf6f-560d-4986-8633-6c9b42c58521"
      },
      "outputs": [],
      "source": [
        "# sordig dict using list and sorting algoritham\n",
        "def sorting_dict(d):\n",
        "    l = list(d.items()) # list of tuple key value\n",
        "    print(l)\n",
        "    print(\"*\"*50,\"Sorting Option\",\"*\"*50)\n",
        "    print(\"1.Ascending Sort\\n 2.Descending Sort\")\n",
        "    ch=int(input(\"Enter your choice from above option: \"))\n",
        "    print(d)\n",
        "    if ch==1:\n",
        "         for i in range(len(l)):\n",
        "             for j in range(i,len(l)):\n",
        "                if l[i][1]>l[j][1]:\n",
        "                    temp=l[i]\n",
        "                    l[i]=l[j]\n",
        "                    l[j]=temp\n",
        "         return f\" sort by ascending {dict(l)}\"\n",
        "    elif ch==2:\n",
        "        for i in range(len(l)):\n",
        "            for j in range(i,len(l)):\n",
        "                if l[i][1]<l[j][1]:\n",
        "                    temp=l[i]\n",
        "                    l[i]=l[j]\n",
        "                    l[j]=temp\n",
        "        return f\" sort by desc {dict(l)}\"\n",
        "    else:\n",
        "        return \"Invalid option\""
      ]
    },
    {
      "cell_type": "code",
      "execution_count": null,
      "id": "9bfde973-6467-4723-97fe-fdf1ef1e49e8",
      "metadata": {
        "id": "9bfde973-6467-4723-97fe-fdf1ef1e49e8",
        "outputId": "bc4e803c-f92e-40d0-fc5a-5471fb6e6e44"
      },
      "outputs": [
        {
          "name": "stdout",
          "output_type": "stream",
          "text": [
            "[('Apple', 95), ('Banana', 105), ('Cheeseburger', 303), ('Salad', 152), ('Orange', 62), ('Chicken Breast', 165), ('Ice Cream', 207), ('French Fries', 365)]\n",
            "************************************************** Sorting Option **************************************************\n",
            "1.Ascending Sort\n",
            " 2.Descending Sort\n"
          ]
        },
        {
          "name": "stdin",
          "output_type": "stream",
          "text": [
            "Enter your choice from above option:  2\n"
          ]
        },
        {
          "name": "stdout",
          "output_type": "stream",
          "text": [
            "{'Apple': 95, 'Banana': 105, 'Cheeseburger': 303, 'Salad': 152, 'Orange': 62, 'Chicken Breast': 165, 'Ice Cream': 207, 'French Fries': 365}\n"
          ]
        },
        {
          "data": {
            "text/plain": [
              "\" sort by desc {'French Fries': 365, 'Cheeseburger': 303, 'Ice Cream': 207, 'Chicken Breast': 165, 'Salad': 152, 'Banana': 105, 'Apple': 95, 'Orange': 62}\""
            ]
          },
          "execution_count": 127,
          "metadata": {},
          "output_type": "execute_result"
        }
      ],
      "source": [
        "sorting_dict(calories_dict)"
      ]
    },
    {
      "cell_type": "code",
      "execution_count": null,
      "id": "554fd615-ee36-406a-8969-365d806ad1a6",
      "metadata": {
        "id": "554fd615-ee36-406a-8969-365d806ad1a6"
      },
      "outputs": [],
      "source": []
    },
    {
      "cell_type": "code",
      "execution_count": null,
      "id": "848bdf8c-c645-49a6-81c2-62880efc95fc",
      "metadata": {
        "id": "848bdf8c-c645-49a6-81c2-62880efc95fc",
        "outputId": "e67df2f7-d7a0-448b-c835-160a7e10f247"
      },
      "outputs": [
        {
          "name": "stdout",
          "output_type": "stream",
          "text": [
            "[('Apple', 95), ('Banana', 105), ('Cheeseburger', 303), ('Salad', 152), ('Orange', 62), ('Chicken Breast', 165), ('Ice Cream', 207), ('French Fries', 365)]\n",
            "************************************************** Sorting Option **************************************************\n",
            "1.Ascending Sort\n",
            " 2.Descending Sort\n"
          ]
        },
        {
          "name": "stdin",
          "output_type": "stream",
          "text": [
            "Enter your choice from above option:  1\n"
          ]
        },
        {
          "name": "stdout",
          "output_type": "stream",
          "text": [
            "{'Apple': 95, 'Banana': 105, 'Cheeseburger': 303, 'Salad': 152, 'Orange': 62, 'Chicken Breast': 165, 'Ice Cream': 207, 'French Fries': 365}\n"
          ]
        },
        {
          "data": {
            "text/plain": [
              "\" sort by ascending {'Orange': 62, 'Apple': 95, 'Banana': 105, 'Salad': 152, 'Chicken Breast': 165, 'Ice Cream': 207, 'Cheeseburger': 303, 'French Fries': 365}\""
            ]
          },
          "execution_count": 128,
          "metadata": {},
          "output_type": "execute_result"
        }
      ],
      "source": [
        "calories_dict = {\n",
        "    'Apple': 95,\n",
        "    'Banana': 105,\n",
        "    'Cheeseburger': 303,\n",
        "    'Salad': 152,\n",
        "    'Orange': 62,\n",
        "    'Chicken Breast': 165,\n",
        "    'Ice Cream': 207,\n",
        "    'French Fries': 365\n",
        "}\n",
        "\n",
        "sorting_dict(calories_dict)"
      ]
    },
    {
      "cell_type": "markdown",
      "id": "9445c386-9364-4fc7-b74e-e4924e758fb9",
      "metadata": {
        "id": "9445c386-9364-4fc7-b74e-e4924e758fb9"
      },
      "source": [
        "\u0004."
      ]
    },
    {
      "cell_type": "markdown",
      "id": "595bd601-3c6a-4aa0-b360-1f9932e59391",
      "metadata": {
        "id": "595bd601-3c6a-4aa0-b360-1f9932e59391"
      },
      "source": [
        "# 35) Write a code that inverts a dictionary swpping kEYs and values. Ensure that the inverted dictionary correctly handles cases where multiple keys have the s+ame value by storing the keys as a list in the inverted dictionary."
      ]
    },
    {
      "cell_type": "code",
      "execution_count": null,
      "id": "14aae868-5570-48f8-b9c1-d90c2fee8e45",
      "metadata": {
        "id": "14aae868-5570-48f8-b9c1-d90c2fee8e45"
      },
      "outputs": [],
      "source": [
        "\n",
        "def swap_dict(d):\n",
        "        dict2={} # take empty dict\n",
        "        for k,v in d.items(): # iterate the dict1\n",
        "            if v in dict2: # v is present in dict2\n",
        "                if isinstance(dict2[v],list): # check  if the current value in dict2 is already a list.\n",
        "                 dict2[v].append(k)  # append to this list\n",
        "                else:\n",
        "                    dict2[v]=[dict2[v],k] # is not present in list then create a list and add key as value\n",
        "            else:\n",
        "                dict2[v]=k\n",
        "        return dict2\n"
      ]
    },
    {
      "cell_type": "code",
      "execution_count": null,
      "id": "e49e37d0-6e7d-4950-b8df-a6faf459e1ee",
      "metadata": {
        "id": "e49e37d0-6e7d-4950-b8df-a6faf459e1ee"
      },
      "outputs": [],
      "source": []
    },
    {
      "cell_type": "code",
      "execution_count": null,
      "id": "efccba20-36d9-4cc4-a9a3-7a760424368c",
      "metadata": {
        "id": "efccba20-36d9-4cc4-a9a3-7a760424368c",
        "outputId": "8593e985-825a-4761-8d9b-9ce6c91cc2c7"
      },
      "outputs": [
        {
          "data": {
            "text/plain": [
              "{95: ['Apple', 'Mango'],\n",
              " 105: ['Banana', 'Grapes'],\n",
              " 303: 'Cheeseburger',\n",
              " 152: 'Salad',\n",
              " 62: 'Orange',\n",
              " 165: 'Chicken Breast',\n",
              " 207: 'Ice Cream',\n",
              " 365: 'French Fries'}"
            ]
          },
          "execution_count": 152,
          "metadata": {},
          "output_type": "execute_result"
        }
      ],
      "source": [
        "calories_dict = {\n",
        "    'Apple': 95,\n",
        "    'Banana': 105,\n",
        "    'Cheeseburger': 303,\n",
        "    'Salad': 152,\n",
        "    'Orange': 62,\n",
        "    'Chicken Breast': 165,\n",
        "    'Ice Cream': 207,\n",
        "    'French Fries': 365,\n",
        "    'Grapes':105,\n",
        "    'Mango':95\n",
        "}\n",
        "swap_dict(calories_dict)"
      ]
    },
    {
      "cell_type": "markdown",
      "id": "47f9d530-0077-4398-8fa0-933c12e9ed0b",
      "metadata": {
        "id": "47f9d530-0077-4398-8fa0-933c12e9ed0b"
      },
      "source": []
    },
    {
      "cell_type": "code",
      "execution_count": null,
      "id": "27818ec3-c1ad-406b-ae43-4acde890d7ce",
      "metadata": {
        "id": "27818ec3-c1ad-406b-ae43-4acde890d7ce"
      },
      "outputs": [],
      "source": []
    }
  ],
  "metadata": {
    "kernelspec": {
      "display_name": "Python 3 (ipykernel)",
      "language": "python",
      "name": "python3"
    },
    "language_info": {
      "codemirror_mode": {
        "name": "ipython",
        "version": 3
      },
      "file_extension": ".py",
      "mimetype": "text/x-python",
      "name": "python",
      "nbconvert_exporter": "python",
      "pygments_lexer": "ipython3",
      "version": "3.11.7"
    },
    "colab": {
      "provenance": [],
      "toc_visible": true,
      "include_colab_link": true
    }
  },
  "nbformat": 4,
  "nbformat_minor": 5
}